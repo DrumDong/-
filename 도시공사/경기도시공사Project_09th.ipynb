{
  "nbformat": 4,
  "nbformat_minor": 0,
  "metadata": {
    "colab": {
      "name": "경기도시공사Project_09th.ipynb",
      "provenance": [],
      "collapsed_sections": [
        "GRym_zMqxqV8"
      ],
      "mount_file_id": "1gWgz_8RTIOjN8CeKf_U8-BI3IvfzDdvs",
      "authorship_tag": "ABX9TyPFWb0K3L4b+VTSjZ1FPApP"
    },
    "kernelspec": {
      "name": "python3",
      "display_name": "Python 3"
    }
  },
  "cells": [
    {
      "cell_type": "markdown",
      "metadata": {
        "id": "IdZgkVPnKOQC"
      },
      "source": [
        "# 모델링\n",
        "LightGBM"
      ]
    },
    {
      "cell_type": "code",
      "metadata": {
        "id": "YukBvMBBuNwQ",
        "colab": {
          "base_uri": "https://localhost:8080/"
        },
        "outputId": "1b6ae51e-4747-434e-e10c-1f6b41eaa235"
      },
      "source": [
        "import pandas as pd\n",
        "import numpy as np\n",
        "import matplotlib as mpl\n",
        "import matplotlib.pyplot as plt\n",
        "import seaborn as sns\n",
        "\n",
        "import warnings\n",
        "warnings.filterwarnings(action = 'ignore')\n",
        "\n",
        "from scipy.spatial import distance\n",
        "from math import log2\n",
        "from math import sqrt\n",
        "from sklearn.cluster import AgglomerativeClustering\n",
        "\n",
        "!pip install bayesian-optimization\n",
        "\n",
        "from sklearn.model_selection import KFold,StratifiedKFold   # K-fold CV \n",
        "from bayes_opt import BayesianOptimization  # 베이지안 최적화 라이브러리\n",
        "from functools import partial               # 함수 변수 고정\n",
        "import lightgbm as lgb                      # LightGBM 라이브러리\n",
        "from sklearn.metrics import mean_squared_error,mean_absolute_error,r2_score\n",
        "from sklearn.metrics import mean_squared_log_error\n",
        "\n",
        "import warnings\n",
        "warnings.filterwarnings(action = 'ignore')\n",
        "\n",
        "from imblearn.over_sampling import SMOTE\n",
        "\n",
        "from sklearn.preprocessing import RobustScaler"
      ],
      "execution_count": null,
      "outputs": [
        {
          "output_type": "stream",
          "text": [
            "Requirement already satisfied: bayesian-optimization in /usr/local/lib/python3.6/dist-packages (1.2.0)\n",
            "Requirement already satisfied: numpy>=1.9.0 in /usr/local/lib/python3.6/dist-packages (from bayesian-optimization) (1.18.5)\n",
            "Requirement already satisfied: scipy>=0.14.0 in /usr/local/lib/python3.6/dist-packages (from bayesian-optimization) (1.4.1)\n",
            "Requirement already satisfied: scikit-learn>=0.18.0 in /usr/local/lib/python3.6/dist-packages (from bayesian-optimization) (0.22.2.post1)\n",
            "Requirement already satisfied: joblib>=0.11 in /usr/local/lib/python3.6/dist-packages (from scikit-learn>=0.18.0->bayesian-optimization) (0.17.0)\n"
          ],
          "name": "stdout"
        }
      ]
    },
    {
      "cell_type": "code",
      "metadata": {
        "id": "WcVw-VWW3cIz",
        "colab": {
          "base_uri": "https://localhost:8080/"
        },
        "outputId": "bd138975-860f-47fc-9321-89f83c2d17ac"
      },
      "source": [
        "%config InlineBackend.figure_format = 'retina'\n",
        " \n",
        "!apt -qq -y install fonts-nanum\n",
        " \n",
        "import matplotlib.font_manager as fm\n",
        "fontpath = '/usr/share/fonts/truetype/nanum/NanumBarunGothic.ttf'\n",
        "font = fm.FontProperties(fname=fontpath, size=9)\n",
        "plt.rc('font', family='NanumBarunGothic') \n",
        "mpl.font_manager._rebuild()"
      ],
      "execution_count": null,
      "outputs": [
        {
          "output_type": "stream",
          "text": [
            "fonts-nanum is already the newest version (20170925-1).\n",
            "0 upgraded, 0 newly installed, 0 to remove and 14 not upgraded.\n"
          ],
          "name": "stdout"
        }
      ]
    },
    {
      "cell_type": "code",
      "metadata": {
        "id": "gRhUWIeh3dHP",
        "colab": {
          "base_uri": "https://localhost:8080/",
          "height": 321
        },
        "outputId": "2e207da5-fb64-4be5-943a-a51e0ecf6fdc"
      },
      "source": [
        "plt.figure(figsize=(5,5))\n",
        "plt.plot([0,1], [0,1], label='한글테스트용')\n",
        "plt.legend()\n",
        "plt.show()"
      ],
      "execution_count": null,
      "outputs": [
        {
          "output_type": "display_data",
          "data": {
            "image/png": "[encoded data removed]",
            "text/plain": [
              "<Figure size 360x360 with 1 Axes>"
            ]
          },
          "metadata": {
            "tags": [],
            "image/png": {
              "width": 315,
              "height": 304
            },
            "needs_background": "light"
          }
        }
      ]
    },
    {
      "cell_type": "code",
      "metadata": {
        "id": "29HaYKqS3eHG",
        "colab": {
          "base_uri": "https://localhost:8080/",
          "height": 598
        },
        "outputId": "d6b331f9-1a33-4b41-f5b9-70876fef8519"
      },
      "source": [
        "df=pd.read_csv('/content/drive/My Drive/Colab Notebooks/data/빅청캠/df_boosting.csv')\n",
        "df.head()"
      ],
      "execution_count": null,
      "outputs": [
        {
          "output_type": "execute_result",
          "data": {
            "text/html": [
              "<div>\n",
              "<style scoped>\n",
              "    .dataframe tbody tr th:only-of-type {\n",
              "        vertical-align: middle;\n",
              "    }\n",
              "\n",
              "    .dataframe tbody tr th {\n",
              "        vertical-align: top;\n",
              "    }\n",
              "\n",
              "    .dataframe thead th {\n",
              "        text-align: right;\n",
              "    }\n",
              "</style>\n",
              "<table border=\"1\" class=\"dataframe\">\n",
              "  <thead>\n",
              "    <tr style=\"text-align: right;\">\n",
              "      <th></th>\n",
              "      <th>도시</th>\n",
              "      <th>공사</th>\n",
              "      <th>modified공종명</th>\n",
              "      <th>설계수량</th>\n",
              "      <th>공구별면적</th>\n",
              "      <th>주거면적</th>\n",
              "      <th>주거면적(%)</th>\n",
              "      <th>공구별세대수</th>\n",
              "      <th>기간(월)</th>\n",
              "      <th>이상치</th>\n",
              "      <th>hdb_clusters</th>\n",
              "      <th>hdb_mean</th>\n",
              "      <th>hdb_std</th>\n",
              "      <th>도-단cluster</th>\n",
              "      <th>공-단cluster</th>\n",
              "      <th>도공-단cluster</th>\n",
              "      <th>도-단비cluster</th>\n",
              "      <th>공-단비cluster</th>\n",
              "      <th>도공-단비cluster</th>\n",
              "      <th>도-수비cluster</th>\n",
              "      <th>공-수비cluster</th>\n",
              "      <th>도공-수비cluster</th>\n",
              "      <th>도-단clustermean</th>\n",
              "      <th>도-단clusterstd</th>\n",
              "      <th>공-단clustermean</th>\n",
              "      <th>공-단clusterstd</th>\n",
              "      <th>도공-단clustermean</th>\n",
              "      <th>도공-단clusterstd</th>\n",
              "      <th>도-단비clustermean</th>\n",
              "      <th>도-단비clusterstd</th>\n",
              "      <th>공-단비clustermean</th>\n",
              "      <th>공-단비clusterstd</th>\n",
              "      <th>도공-단비clustermean</th>\n",
              "      <th>도공-단비clusterstd</th>\n",
              "      <th>도-수비clustermean</th>\n",
              "      <th>도-수비clusterstd</th>\n",
              "      <th>공-수비clustermean</th>\n",
              "      <th>공-수비clusterstd</th>\n",
              "      <th>도공-수비clustermean</th>\n",
              "      <th>도공-수비clusterstd</th>\n",
              "      <th>도급단가합계</th>\n",
              "    </tr>\n",
              "  </thead>\n",
              "  <tbody>\n",
              "    <tr>\n",
              "      <th>0</th>\n",
              "      <td>광교1</td>\n",
              "      <td>구조물공사</td>\n",
              "      <td>강관파일기초</td>\n",
              "      <td>7337.0</td>\n",
              "      <td>1067184.0</td>\n",
              "      <td>604873.6</td>\n",
              "      <td>56.67941</td>\n",
              "      <td>9177.0</td>\n",
              "      <td>43.0</td>\n",
              "      <td>1</td>\n",
              "      <td>254</td>\n",
              "      <td>383301.857143</td>\n",
              "      <td>485940.558325</td>\n",
              "      <td>17</td>\n",
              "      <td>6</td>\n",
              "      <td>9</td>\n",
              "      <td>2</td>\n",
              "      <td>22</td>\n",
              "      <td>74</td>\n",
              "      <td>22</td>\n",
              "      <td>3</td>\n",
              "      <td>80</td>\n",
              "      <td>1.936300e+06</td>\n",
              "      <td>1.235332e+07</td>\n",
              "      <td>318080.400000</td>\n",
              "      <td>608002.829725</td>\n",
              "      <td>586871.333333</td>\n",
              "      <td>705899.572921</td>\n",
              "      <td>905478.762774</td>\n",
              "      <td>2.400655e+06</td>\n",
              "      <td>318080.400000</td>\n",
              "      <td>608002.829725</td>\n",
              "      <td>817921.500000</td>\n",
              "      <td>822364.479413</td>\n",
              "      <td>1.015044e+06</td>\n",
              "      <td>2.455870e+06</td>\n",
              "      <td>124222.157895</td>\n",
              "      <td>318363.549917</td>\n",
              "      <td>817921.500000</td>\n",
              "      <td>822364.479413</td>\n",
              "      <td>1399421.0</td>\n",
              "    </tr>\n",
              "    <tr>\n",
              "      <th>1</th>\n",
              "      <td>광교1</td>\n",
              "      <td>구조물공사</td>\n",
              "      <td>되메우기및다짐</td>\n",
              "      <td>8973.0</td>\n",
              "      <td>1067184.0</td>\n",
              "      <td>604873.6</td>\n",
              "      <td>56.67941</td>\n",
              "      <td>9177.0</td>\n",
              "      <td>43.0</td>\n",
              "      <td>0</td>\n",
              "      <td>292</td>\n",
              "      <td>9276.842105</td>\n",
              "      <td>10462.150381</td>\n",
              "      <td>407</td>\n",
              "      <td>372</td>\n",
              "      <td>500</td>\n",
              "      <td>444</td>\n",
              "      <td>543</td>\n",
              "      <td>631</td>\n",
              "      <td>479</td>\n",
              "      <td>607</td>\n",
              "      <td>303</td>\n",
              "      <td>8.410143e+03</td>\n",
              "      <td>6.149926e+03</td>\n",
              "      <td>8410.142857</td>\n",
              "      <td>6149.926039</td>\n",
              "      <td>8410.142857</td>\n",
              "      <td>6149.926039</td>\n",
              "      <td>8410.142857</td>\n",
              "      <td>6.149926e+03</td>\n",
              "      <td>8410.142857</td>\n",
              "      <td>6149.926039</td>\n",
              "      <td>8410.142857</td>\n",
              "      <td>6149.926039</td>\n",
              "      <td>8.410143e+03</td>\n",
              "      <td>6.149926e+03</td>\n",
              "      <td>8410.142857</td>\n",
              "      <td>6149.926039</td>\n",
              "      <td>8410.142857</td>\n",
              "      <td>6149.926039</td>\n",
              "      <td>1395.0</td>\n",
              "    </tr>\n",
              "    <tr>\n",
              "      <th>2</th>\n",
              "      <td>광교1</td>\n",
              "      <td>구조물공사</td>\n",
              "      <td>뒷채움부설및다짐</td>\n",
              "      <td>1558.0</td>\n",
              "      <td>1067184.0</td>\n",
              "      <td>604873.6</td>\n",
              "      <td>56.67941</td>\n",
              "      <td>9177.0</td>\n",
              "      <td>43.0</td>\n",
              "      <td>1</td>\n",
              "      <td>1019</td>\n",
              "      <td>10549.523810</td>\n",
              "      <td>14778.036032</td>\n",
              "      <td>520</td>\n",
              "      <td>415</td>\n",
              "      <td>253</td>\n",
              "      <td>625</td>\n",
              "      <td>416</td>\n",
              "      <td>423</td>\n",
              "      <td>595</td>\n",
              "      <td>439</td>\n",
              "      <td>503</td>\n",
              "      <td>4.952800e+03</td>\n",
              "      <td>1.160361e+03</td>\n",
              "      <td>4952.800000</td>\n",
              "      <td>1160.361452</td>\n",
              "      <td>4952.800000</td>\n",
              "      <td>1160.361452</td>\n",
              "      <td>4952.800000</td>\n",
              "      <td>1.160361e+03</td>\n",
              "      <td>4952.800000</td>\n",
              "      <td>1160.361452</td>\n",
              "      <td>4952.800000</td>\n",
              "      <td>1160.361452</td>\n",
              "      <td>4.952800e+03</td>\n",
              "      <td>1.160361e+03</td>\n",
              "      <td>4952.800000</td>\n",
              "      <td>1160.361452</td>\n",
              "      <td>4952.800000</td>\n",
              "      <td>1160.361452</td>\n",
              "      <td>2878.0</td>\n",
              "    </tr>\n",
              "    <tr>\n",
              "      <th>3</th>\n",
              "      <td>광교1</td>\n",
              "      <td>구조물공사</td>\n",
              "      <td>보강토옹벽</td>\n",
              "      <td>402.0</td>\n",
              "      <td>1067184.0</td>\n",
              "      <td>604873.6</td>\n",
              "      <td>56.67941</td>\n",
              "      <td>9177.0</td>\n",
              "      <td>43.0</td>\n",
              "      <td>1</td>\n",
              "      <td>260</td>\n",
              "      <td>163376.000000</td>\n",
              "      <td>103302.643877</td>\n",
              "      <td>17</td>\n",
              "      <td>678</td>\n",
              "      <td>9</td>\n",
              "      <td>2</td>\n",
              "      <td>369</td>\n",
              "      <td>74</td>\n",
              "      <td>22</td>\n",
              "      <td>3</td>\n",
              "      <td>80</td>\n",
              "      <td>1.936300e+06</td>\n",
              "      <td>1.235332e+07</td>\n",
              "      <td>236422.000000</td>\n",
              "      <td>NaN</td>\n",
              "      <td>586871.333333</td>\n",
              "      <td>705899.572921</td>\n",
              "      <td>905478.762774</td>\n",
              "      <td>2.400655e+06</td>\n",
              "      <td>236422.000000</td>\n",
              "      <td>NaN</td>\n",
              "      <td>817921.500000</td>\n",
              "      <td>822364.479413</td>\n",
              "      <td>1.015044e+06</td>\n",
              "      <td>2.455870e+06</td>\n",
              "      <td>124222.157895</td>\n",
              "      <td>318363.549917</td>\n",
              "      <td>817921.500000</td>\n",
              "      <td>822364.479413</td>\n",
              "      <td>236422.0</td>\n",
              "    </tr>\n",
              "    <tr>\n",
              "      <th>4</th>\n",
              "      <td>광교1</td>\n",
              "      <td>구조물공사</td>\n",
              "      <td>식생옹벽블럭</td>\n",
              "      <td>341.0</td>\n",
              "      <td>1067184.0</td>\n",
              "      <td>604873.6</td>\n",
              "      <td>56.67941</td>\n",
              "      <td>9177.0</td>\n",
              "      <td>43.0</td>\n",
              "      <td>1</td>\n",
              "      <td>265</td>\n",
              "      <td>30559.428571</td>\n",
              "      <td>47851.742577</td>\n",
              "      <td>17</td>\n",
              "      <td>672</td>\n",
              "      <td>9</td>\n",
              "      <td>2</td>\n",
              "      <td>311</td>\n",
              "      <td>338</td>\n",
              "      <td>504</td>\n",
              "      <td>3</td>\n",
              "      <td>204</td>\n",
              "      <td>1.936300e+06</td>\n",
              "      <td>1.235332e+07</td>\n",
              "      <td>124771.000000</td>\n",
              "      <td>NaN</td>\n",
              "      <td>586871.333333</td>\n",
              "      <td>705899.572921</td>\n",
              "      <td>905478.762774</td>\n",
              "      <td>2.400655e+06</td>\n",
              "      <td>124771.000000</td>\n",
              "      <td>NaN</td>\n",
              "      <td>124771.000000</td>\n",
              "      <td>NaN</td>\n",
              "      <td>1.247710e+05</td>\n",
              "      <td>NaN</td>\n",
              "      <td>124222.157895</td>\n",
              "      <td>318363.549917</td>\n",
              "      <td>124771.000000</td>\n",
              "      <td>NaN</td>\n",
              "      <td>124771.0</td>\n",
              "    </tr>\n",
              "  </tbody>\n",
              "</table>\n",
              "</div>"
            ],
            "text/plain": [
              "    도시     공사 modified공종명  ...  도공-수비clustermean  도공-수비clusterstd     도급단가합계\n",
              "0  광교1  구조물공사      강관파일기초  ...     817921.500000    822364.479413  1399421.0\n",
              "1  광교1  구조물공사     되메우기및다짐  ...       8410.142857      6149.926039     1395.0\n",
              "2  광교1  구조물공사    뒷채움부설및다짐  ...       4952.800000      1160.361452     2878.0\n",
              "3  광교1  구조물공사       보강토옹벽  ...     817921.500000    822364.479413   236422.0\n",
              "4  광교1  구조물공사      식생옹벽블럭  ...     124771.000000              NaN   124771.0\n",
              "\n",
              "[5 rows x 41 columns]"
            ]
          },
          "metadata": {
            "tags": []
          },
          "execution_count": 4
        }
      ]
    },
    {
      "cell_type": "code",
      "metadata": {
        "id": "NpbW32Op_x9K",
        "colab": {
          "base_uri": "https://localhost:8080/"
        },
        "outputId": "31c6454a-94eb-4ce4-c782-5a85117ad6a0"
      },
      "source": [
        "df.columns"
      ],
      "execution_count": null,
      "outputs": [
        {
          "output_type": "execute_result",
          "data": {
            "text/plain": [
              "Index(['도시', '공사', 'modified공종명', '설계수량', '공구별면적', '주거면적', '주거면적(%)', '공구별세대수',\n",
              "       '기간(월)', '이상치', 'hdb_clusters', 'hdb_mean', 'hdb_std', '도-단cluster',\n",
              "       '공-단cluster', '도공-단cluster', '도-단비cluster', '공-단비cluster',\n",
              "       '도공-단비cluster', '도-수비cluster', '공-수비cluster', '도공-수비cluster',\n",
              "       '도-단clustermean', '도-단clusterstd', '공-단clustermean', '공-단clusterstd',\n",
              "       '도공-단clustermean', '도공-단clusterstd', '도-단비clustermean',\n",
              "       '도-단비clusterstd', '공-단비clustermean', '공-단비clusterstd',\n",
              "       '도공-단비clustermean', '도공-단비clusterstd', '도-수비clustermean',\n",
              "       '도-수비clusterstd', '공-수비clustermean', '공-수비clusterstd',\n",
              "       '도공-수비clustermean', '도공-수비clusterstd', '도급단가합계'],\n",
              "      dtype='object')"
            ]
          },
          "metadata": {
            "tags": []
          },
          "execution_count": 5
        }
      ]
    },
    {
      "cell_type": "code",
      "metadata": {
        "id": "q6xVZ-ng4cZn",
        "colab": {
          "base_uri": "https://localhost:8080/",
          "height": 598
        },
        "outputId": "5d755a5d-5e92-435e-e011-f830faa5fd87"
      },
      "source": [
        "df = df[df['도급단가합계']>0]\n",
        "df = df.reset_index(drop=True)\n",
        "df.head()"
      ],
      "execution_count": null,
      "outputs": [
        {
          "output_type": "execute_result",
          "data": {
            "text/html": [
              "<div>\n",
              "<style scoped>\n",
              "    .dataframe tbody tr th:only-of-type {\n",
              "        vertical-align: middle;\n",
              "    }\n",
              "\n",
              "    .dataframe tbody tr th {\n",
              "        vertical-align: top;\n",
              "    }\n",
              "\n",
              "    .dataframe thead th {\n",
              "        text-align: right;\n",
              "    }\n",
              "</style>\n",
              "<table border=\"1\" class=\"dataframe\">\n",
              "  <thead>\n",
              "    <tr style=\"text-align: right;\">\n",
              "      <th></th>\n",
              "      <th>도시</th>\n",
              "      <th>공사</th>\n",
              "      <th>modified공종명</th>\n",
              "      <th>설계수량</th>\n",
              "      <th>공구별면적</th>\n",
              "      <th>주거면적</th>\n",
              "      <th>주거면적(%)</th>\n",
              "      <th>공구별세대수</th>\n",
              "      <th>기간(월)</th>\n",
              "      <th>이상치</th>\n",
              "      <th>hdb_clusters</th>\n",
              "      <th>hdb_mean</th>\n",
              "      <th>hdb_std</th>\n",
              "      <th>도-단cluster</th>\n",
              "      <th>공-단cluster</th>\n",
              "      <th>도공-단cluster</th>\n",
              "      <th>도-단비cluster</th>\n",
              "      <th>공-단비cluster</th>\n",
              "      <th>도공-단비cluster</th>\n",
              "      <th>도-수비cluster</th>\n",
              "      <th>공-수비cluster</th>\n",
              "      <th>도공-수비cluster</th>\n",
              "      <th>도-단clustermean</th>\n",
              "      <th>도-단clusterstd</th>\n",
              "      <th>공-단clustermean</th>\n",
              "      <th>공-단clusterstd</th>\n",
              "      <th>도공-단clustermean</th>\n",
              "      <th>도공-단clusterstd</th>\n",
              "      <th>도-단비clustermean</th>\n",
              "      <th>도-단비clusterstd</th>\n",
              "      <th>공-단비clustermean</th>\n",
              "      <th>공-단비clusterstd</th>\n",
              "      <th>도공-단비clustermean</th>\n",
              "      <th>도공-단비clusterstd</th>\n",
              "      <th>도-수비clustermean</th>\n",
              "      <th>도-수비clusterstd</th>\n",
              "      <th>공-수비clustermean</th>\n",
              "      <th>공-수비clusterstd</th>\n",
              "      <th>도공-수비clustermean</th>\n",
              "      <th>도공-수비clusterstd</th>\n",
              "      <th>도급단가합계</th>\n",
              "    </tr>\n",
              "  </thead>\n",
              "  <tbody>\n",
              "    <tr>\n",
              "      <th>0</th>\n",
              "      <td>광교1</td>\n",
              "      <td>구조물공사</td>\n",
              "      <td>강관파일기초</td>\n",
              "      <td>7337.0</td>\n",
              "      <td>1067184.0</td>\n",
              "      <td>604873.6</td>\n",
              "      <td>56.67941</td>\n",
              "      <td>9177.0</td>\n",
              "      <td>43.0</td>\n",
              "      <td>1</td>\n",
              "      <td>254</td>\n",
              "      <td>383301.857143</td>\n",
              "      <td>485940.558325</td>\n",
              "      <td>17</td>\n",
              "      <td>6</td>\n",
              "      <td>9</td>\n",
              "      <td>2</td>\n",
              "      <td>22</td>\n",
              "      <td>74</td>\n",
              "      <td>22</td>\n",
              "      <td>3</td>\n",
              "      <td>80</td>\n",
              "      <td>1.936300e+06</td>\n",
              "      <td>1.235332e+07</td>\n",
              "      <td>318080.400000</td>\n",
              "      <td>608002.829725</td>\n",
              "      <td>586871.333333</td>\n",
              "      <td>705899.572921</td>\n",
              "      <td>905478.762774</td>\n",
              "      <td>2.400655e+06</td>\n",
              "      <td>318080.400000</td>\n",
              "      <td>608002.829725</td>\n",
              "      <td>817921.500000</td>\n",
              "      <td>822364.479413</td>\n",
              "      <td>1.015044e+06</td>\n",
              "      <td>2.455870e+06</td>\n",
              "      <td>124222.157895</td>\n",
              "      <td>318363.549917</td>\n",
              "      <td>817921.500000</td>\n",
              "      <td>822364.479413</td>\n",
              "      <td>1399421.0</td>\n",
              "    </tr>\n",
              "    <tr>\n",
              "      <th>1</th>\n",
              "      <td>광교1</td>\n",
              "      <td>구조물공사</td>\n",
              "      <td>되메우기및다짐</td>\n",
              "      <td>8973.0</td>\n",
              "      <td>1067184.0</td>\n",
              "      <td>604873.6</td>\n",
              "      <td>56.67941</td>\n",
              "      <td>9177.0</td>\n",
              "      <td>43.0</td>\n",
              "      <td>0</td>\n",
              "      <td>292</td>\n",
              "      <td>9276.842105</td>\n",
              "      <td>10462.150381</td>\n",
              "      <td>407</td>\n",
              "      <td>372</td>\n",
              "      <td>500</td>\n",
              "      <td>444</td>\n",
              "      <td>543</td>\n",
              "      <td>631</td>\n",
              "      <td>479</td>\n",
              "      <td>607</td>\n",
              "      <td>303</td>\n",
              "      <td>8.410143e+03</td>\n",
              "      <td>6.149926e+03</td>\n",
              "      <td>8410.142857</td>\n",
              "      <td>6149.926039</td>\n",
              "      <td>8410.142857</td>\n",
              "      <td>6149.926039</td>\n",
              "      <td>8410.142857</td>\n",
              "      <td>6.149926e+03</td>\n",
              "      <td>8410.142857</td>\n",
              "      <td>6149.926039</td>\n",
              "      <td>8410.142857</td>\n",
              "      <td>6149.926039</td>\n",
              "      <td>8.410143e+03</td>\n",
              "      <td>6.149926e+03</td>\n",
              "      <td>8410.142857</td>\n",
              "      <td>6149.926039</td>\n",
              "      <td>8410.142857</td>\n",
              "      <td>6149.926039</td>\n",
              "      <td>1395.0</td>\n",
              "    </tr>\n",
              "    <tr>\n",
              "      <th>2</th>\n",
              "      <td>광교1</td>\n",
              "      <td>구조물공사</td>\n",
              "      <td>뒷채움부설및다짐</td>\n",
              "      <td>1558.0</td>\n",
              "      <td>1067184.0</td>\n",
              "      <td>604873.6</td>\n",
              "      <td>56.67941</td>\n",
              "      <td>9177.0</td>\n",
              "      <td>43.0</td>\n",
              "      <td>1</td>\n",
              "      <td>1019</td>\n",
              "      <td>10549.523810</td>\n",
              "      <td>14778.036032</td>\n",
              "      <td>520</td>\n",
              "      <td>415</td>\n",
              "      <td>253</td>\n",
              "      <td>625</td>\n",
              "      <td>416</td>\n",
              "      <td>423</td>\n",
              "      <td>595</td>\n",
              "      <td>439</td>\n",
              "      <td>503</td>\n",
              "      <td>4.952800e+03</td>\n",
              "      <td>1.160361e+03</td>\n",
              "      <td>4952.800000</td>\n",
              "      <td>1160.361452</td>\n",
              "      <td>4952.800000</td>\n",
              "      <td>1160.361452</td>\n",
              "      <td>4952.800000</td>\n",
              "      <td>1.160361e+03</td>\n",
              "      <td>4952.800000</td>\n",
              "      <td>1160.361452</td>\n",
              "      <td>4952.800000</td>\n",
              "      <td>1160.361452</td>\n",
              "      <td>4.952800e+03</td>\n",
              "      <td>1.160361e+03</td>\n",
              "      <td>4952.800000</td>\n",
              "      <td>1160.361452</td>\n",
              "      <td>4952.800000</td>\n",
              "      <td>1160.361452</td>\n",
              "      <td>2878.0</td>\n",
              "    </tr>\n",
              "    <tr>\n",
              "      <th>3</th>\n",
              "      <td>광교1</td>\n",
              "      <td>구조물공사</td>\n",
              "      <td>보강토옹벽</td>\n",
              "      <td>402.0</td>\n",
              "      <td>1067184.0</td>\n",
              "      <td>604873.6</td>\n",
              "      <td>56.67941</td>\n",
              "      <td>9177.0</td>\n",
              "      <td>43.0</td>\n",
              "      <td>1</td>\n",
              "      <td>260</td>\n",
              "      <td>163376.000000</td>\n",
              "      <td>103302.643877</td>\n",
              "      <td>17</td>\n",
              "      <td>678</td>\n",
              "      <td>9</td>\n",
              "      <td>2</td>\n",
              "      <td>369</td>\n",
              "      <td>74</td>\n",
              "      <td>22</td>\n",
              "      <td>3</td>\n",
              "      <td>80</td>\n",
              "      <td>1.936300e+06</td>\n",
              "      <td>1.235332e+07</td>\n",
              "      <td>236422.000000</td>\n",
              "      <td>NaN</td>\n",
              "      <td>586871.333333</td>\n",
              "      <td>705899.572921</td>\n",
              "      <td>905478.762774</td>\n",
              "      <td>2.400655e+06</td>\n",
              "      <td>236422.000000</td>\n",
              "      <td>NaN</td>\n",
              "      <td>817921.500000</td>\n",
              "      <td>822364.479413</td>\n",
              "      <td>1.015044e+06</td>\n",
              "      <td>2.455870e+06</td>\n",
              "      <td>124222.157895</td>\n",
              "      <td>318363.549917</td>\n",
              "      <td>817921.500000</td>\n",
              "      <td>822364.479413</td>\n",
              "      <td>236422.0</td>\n",
              "    </tr>\n",
              "    <tr>\n",
              "      <th>4</th>\n",
              "      <td>광교1</td>\n",
              "      <td>구조물공사</td>\n",
              "      <td>식생옹벽블럭</td>\n",
              "      <td>341.0</td>\n",
              "      <td>1067184.0</td>\n",
              "      <td>604873.6</td>\n",
              "      <td>56.67941</td>\n",
              "      <td>9177.0</td>\n",
              "      <td>43.0</td>\n",
              "      <td>1</td>\n",
              "      <td>265</td>\n",
              "      <td>30559.428571</td>\n",
              "      <td>47851.742577</td>\n",
              "      <td>17</td>\n",
              "      <td>672</td>\n",
              "      <td>9</td>\n",
              "      <td>2</td>\n",
              "      <td>311</td>\n",
              "      <td>338</td>\n",
              "      <td>504</td>\n",
              "      <td>3</td>\n",
              "      <td>204</td>\n",
              "      <td>1.936300e+06</td>\n",
              "      <td>1.235332e+07</td>\n",
              "      <td>124771.000000</td>\n",
              "      <td>NaN</td>\n",
              "      <td>586871.333333</td>\n",
              "      <td>705899.572921</td>\n",
              "      <td>905478.762774</td>\n",
              "      <td>2.400655e+06</td>\n",
              "      <td>124771.000000</td>\n",
              "      <td>NaN</td>\n",
              "      <td>124771.000000</td>\n",
              "      <td>NaN</td>\n",
              "      <td>1.247710e+05</td>\n",
              "      <td>NaN</td>\n",
              "      <td>124222.157895</td>\n",
              "      <td>318363.549917</td>\n",
              "      <td>124771.000000</td>\n",
              "      <td>NaN</td>\n",
              "      <td>124771.0</td>\n",
              "    </tr>\n",
              "  </tbody>\n",
              "</table>\n",
              "</div>"
            ],
            "text/plain": [
              "    도시     공사 modified공종명  ...  도공-수비clustermean  도공-수비clusterstd     도급단가합계\n",
              "0  광교1  구조물공사      강관파일기초  ...     817921.500000    822364.479413  1399421.0\n",
              "1  광교1  구조물공사     되메우기및다짐  ...       8410.142857      6149.926039     1395.0\n",
              "2  광교1  구조물공사    뒷채움부설및다짐  ...       4952.800000      1160.361452     2878.0\n",
              "3  광교1  구조물공사       보강토옹벽  ...     817921.500000    822364.479413   236422.0\n",
              "4  광교1  구조물공사      식생옹벽블럭  ...     124771.000000              NaN   124771.0\n",
              "\n",
              "[5 rows x 41 columns]"
            ]
          },
          "metadata": {
            "tags": []
          },
          "execution_count": 6
        }
      ]
    },
    {
      "cell_type": "code",
      "metadata": {
        "id": "3smu17oj4gwK"
      },
      "source": [
        "# train, test 나누기\n",
        "\n",
        "train_df = df[df['도시'] != '동탄5']\n",
        "test_df = df[df['도시'] == '동탄5']"
      ],
      "execution_count": null,
      "outputs": []
    },
    {
      "cell_type": "code",
      "metadata": {
        "id": "s6B0Sj3_48G2"
      },
      "source": [
        "X_train=train_df.drop('도급단가합계',axis=1)\n",
        "y_train=train_df['도급단가합계']\n",
        "y_train = np.log1p(y_train)\n",
        "\n",
        "\n",
        "X_test=test_df.drop('도급단가합계',axis=1)\n",
        "y_test=test_df['도급단가합계']\n",
        "\n",
        "#공구명 삭제\n",
        "X_train.drop('도시',axis=1,inplace=True)\n",
        "X_test.drop('도시',axis=1,inplace=True)\n",
        "\n",
        "# X_train=train_df.drop('도급합계금액',axis=1)\n",
        "# y_train=train_df['도급합계금액']\n",
        "# X_test=test_df.drop('도급합계금액',axis=1)\n",
        "# y_test=test_df['도급합계금액']\n",
        "\n",
        "# #공구명 삭제\n",
        "# X_train.drop('도시',axis=1,inplace=True)\n",
        "# X_test.drop('도시',axis=1,inplace=True)"
      ],
      "execution_count": null,
      "outputs": []
    },
    {
      "cell_type": "code",
      "metadata": {
        "id": "BZuOexm17TQ1"
      },
      "source": [
        "cat_features = ['공사', 'modified공종명','hdb_clusters', '도-단cluster', '공-단cluster', '도공-단cluster','도-단비cluster', '공-단비cluster', '도공-단비cluster', '도-수비cluster','공-수비cluster', '도공-수비cluster']"
      ],
      "execution_count": null,
      "outputs": []
    },
    {
      "cell_type": "code",
      "metadata": {
        "id": "CPJ52e9A7YJ6"
      },
      "source": [
        "for col in cat_features:\n",
        "  X_train[col] = X_train[col].astype('category')\n",
        "  X_test[col] = X_test[col].astype('category')"
      ],
      "execution_count": null,
      "outputs": []
    },
    {
      "cell_type": "code",
      "metadata": {
        "id": "349t_2pA7ZUY"
      },
      "source": [
        "def lgb_cv(learning_rate,num_iterations,min_data_in_leaf, n_estimators,max_depth, subsample, colsample_bytree, reg_alpha,reg_lambda, x_data=None, y_data=None, n_splits=5, output='model'):\n",
        "    score = 0\n",
        "    skf = StratifiedKFold(n_splits=n_splits, shuffle=True, random_state=201)\n",
        "    models = []\n",
        "    for train_index, valid_index in skf.split(x_data,x_data['hdb_clusters']):\n",
        "       #print(train_index)\n",
        "       x_train, y_train = x_data.iloc[train_index], y_data.iloc[train_index]\n",
        "       x_valid, y_valid = x_data.iloc[valid_index], y_data.iloc[valid_index]\n",
        "        \n",
        "       model = lgb.LGBMRegressor(\n",
        "        \n",
        "           learning_rate = learning_rate,\n",
        "           num_iterations = int(num_iterations),\n",
        "           min_data_in_leaf = int(min_data_in_leaf),  \n",
        "           n_estimators = int(n_estimators),\n",
        "           max_depth = int(max_depth), \n",
        "           subsample = np.clip(subsample, 0, 1), \n",
        "           colsample_bytree = np.clip(colsample_bytree, 0, 1), \n",
        "           reg_alpha = reg_alpha, \n",
        "           reg_lambda = reg_lambda,\n",
        "           )\n",
        "       \n",
        "       model.fit(x_train, y_train)\n",
        "       models.append(model)\n",
        "        \n",
        "       pred = model.predict(x_valid)\n",
        "       true = y_valid\n",
        "       mse =  mean_squared_error(true,pred)*(-1)\n",
        "       mae = mean_absolute_error(true, pred)*(-1)\n",
        "       R2 = r2_score(true, pred)\n",
        "       #msle=mean_squared_log_error(true, pred)*(-1)\n",
        "       score += mse/n_splits\n",
        "    \n",
        "    if output == 'score':\n",
        "        return score\n",
        "    if output == 'model':\n",
        "        return models"
      ],
      "execution_count": null,
      "outputs": []
    },
    {
      "cell_type": "code",
      "metadata": {
        "id": "6u_KkHvo7agv"
      },
      "source": [
        "# func_fixed = partial(lgb_cv, x_data=X_train, y_data=y_train, n_splits=5, output='score') \n",
        "\n",
        "# lgbBO = BayesianOptimization(\n",
        "#     func_fixed, \n",
        "#     {\n",
        "#         'learning_rate': (0.001, 0.01),\n",
        "#         'num_iterations':(1500,2200),\n",
        "#         'min_data_in_leaf':(2,4),\n",
        "#         'n_estimators': (28,32), ##16,32\n",
        "#         'max_depth':(28,32),\n",
        "#         'subsample': (0.01, 1),\n",
        "#         'colsample_bytree': (0.01, 1),\n",
        "#         'reg_alpha': (0.01, 100), \n",
        "#         'reg_lambda': (0.01, 100),\n",
        "#     }, \n",
        "#     random_state=4321\n",
        "# )\n",
        "# lgbBO.maximize(init_points=20, n_iter=5) #30"
      ],
      "execution_count": null,
      "outputs": []
    },
    {
      "cell_type": "markdown",
      "metadata": {
        "id": "ClVglDX9II7e"
      },
      "source": [
        "서치 고찰\n",
        "- 학습률을 낮추고 estimator와 iteration을 많이 올리면 좀더 일반화되고 성능이 좋은 모델을 구현할 수 있음.\n",
        "- 그 후, iteration을 계속 올리다가 오버피팅이 되는 부분을 찾으면 거기서 멈추면 됨."
      ]
    },
    {
      "cell_type": "code",
      "metadata": {
        "id": "VygBdePO7cv7"
      },
      "source": [
        "#params = lgbBO.max['params']\n",
        "params = {'colsample_bytree': 1.0, 'learning_rate': 0.01, 'max_depth': 4.0, 'min_data_in_leaf': 2.0, 'n_estimators': 8, 'num_iterations': 1250.3490939784444, 'reg_alpha': 0.01, 'reg_lambda': 0.01, 'subsample': 0.01}\n",
        "models = lgb_cv(   \n",
        "    params['learning_rate'],\n",
        "    params['num_iterations'],\n",
        "    params['min_data_in_leaf'], \n",
        "    params['n_estimators'],\n",
        "    params['max_depth'], \n",
        "    params['subsample'], \n",
        "    params['colsample_bytree'], \n",
        "    params['reg_alpha'], \n",
        "    params['reg_lambda'], \n",
        "    x_data=X_train, y_data=y_train, n_splits=5, output='model')"
      ],
      "execution_count": null,
      "outputs": []
    },
    {
      "cell_type": "code",
      "metadata": {
        "id": "ITsu3RrN7fH3"
      },
      "source": [
        "preds = []\n",
        "for model in models:\n",
        "    pred = model.predict(X_train)\n",
        "    preds.append(pred)\n",
        "\n",
        "pred = np.mean(preds, axis=0)"
      ],
      "execution_count": null,
      "outputs": []
    },
    {
      "cell_type": "code",
      "metadata": {
        "id": "Is8BoRbA7f0e",
        "colab": {
          "base_uri": "https://localhost:8080/"
        },
        "outputId": "96d3fe5e-5287-4e12-e2e4-0f0253c66713"
      },
      "source": [
        "#mean_absolute_error(y_train,pred)\n",
        "mean_squared_log_error(np.expm1(y_train), np.expm1(pred))**0.5"
      ],
      "execution_count": null,
      "outputs": [
        {
          "output_type": "execute_result",
          "data": {
            "text/plain": [
              "0.7081018035464247"
            ]
          },
          "metadata": {
            "tags": []
          },
          "execution_count": 15
        }
      ]
    },
    {
      "cell_type": "code",
      "metadata": {
        "id": "z2lGfs5o7h0b",
        "colab": {
          "base_uri": "https://localhost:8080/"
        },
        "outputId": "27678f68-0aae-403d-aef0-c0f141c09ec5"
      },
      "source": [
        "#r2_score(y_train, pred)\n",
        "r2_score(np.expm1(y_train), np.expm1(pred))"
      ],
      "execution_count": null,
      "outputs": [
        {
          "output_type": "execute_result",
          "data": {
            "text/plain": [
              "0.7842454460665929"
            ]
          },
          "metadata": {
            "tags": []
          },
          "execution_count": 16
        }
      ]
    },
    {
      "cell_type": "code",
      "metadata": {
        "id": "3R5OlXTI7jKz"
      },
      "source": [
        "preds = []\n",
        "for model in models:\n",
        "    pred = model.predict(X_test)\n",
        "    preds.append(pred)\n",
        "\n",
        "pred = np.mean(preds, axis=0)"
      ],
      "execution_count": null,
      "outputs": []
    },
    {
      "cell_type": "code",
      "metadata": {
        "id": "YHndJB8M7kmi",
        "colab": {
          "base_uri": "https://localhost:8080/"
        },
        "outputId": "28a4e9c3-9236-4dfa-8ff2-5a1c52ae47e2"
      },
      "source": [
        "#mean_absolute_error(y_tset,pred)\n",
        "mean_squared_log_error(y_test, np.expm1(pred))**0.5"
      ],
      "execution_count": null,
      "outputs": [
        {
          "output_type": "execute_result",
          "data": {
            "text/plain": [
              "1.1627493968190732"
            ]
          },
          "metadata": {
            "tags": []
          },
          "execution_count": 18
        }
      ]
    },
    {
      "cell_type": "code",
      "metadata": {
        "id": "rQPrDwLk7mCh",
        "colab": {
          "base_uri": "https://localhost:8080/"
        },
        "outputId": "b045ba9c-4be1-4326-f71b-ac4313cbe6f8"
      },
      "source": [
        "#r2_score(y_test,pred)\n",
        "r2_score(y_test,np.expm1(pred))"
      ],
      "execution_count": null,
      "outputs": [
        {
          "output_type": "execute_result",
          "data": {
            "text/plain": [
              "0.76611445063418"
            ]
          },
          "metadata": {
            "tags": []
          },
          "execution_count": 19
        }
      ]
    },
    {
      "cell_type": "code",
      "metadata": {
        "id": "6MGv3QVN7qyU"
      },
      "source": [
        "tt=pd.DataFrame({'pred':np.expm1(pred),'y_test':y_test})"
      ],
      "execution_count": null,
      "outputs": []
    },
    {
      "cell_type": "code",
      "metadata": {
        "id": "RJdqP7i97sFY",
        "colab": {
          "base_uri": "https://localhost:8080/"
        },
        "outputId": "fd1614e3-bb4c-4a4f-cac9-ee190180c871"
      },
      "source": [
        "tt[['pred','y_test']].sum()"
      ],
      "execution_count": null,
      "outputs": [
        {
          "output_type": "execute_result",
          "data": {
            "text/plain": [
              "pred      7.718655e+08\n",
              "y_test    9.732387e+08\n",
              "dtype: float64"
            ]
          },
          "metadata": {
            "tags": []
          },
          "execution_count": 21
        }
      ]
    },
    {
      "cell_type": "code",
      "metadata": {
        "id": "cVTEmUDz1QE3",
        "colab": {
          "base_uri": "https://localhost:8080/"
        },
        "outputId": "0006831b-cd86-405f-916c-41328643ac4a"
      },
      "source": [
        "7.718655e+08"
      ],
      "execution_count": null,
      "outputs": [
        {
          "output_type": "execute_result",
          "data": {
            "text/plain": [
              "771865500.0"
            ]
          },
          "metadata": {
            "tags": []
          },
          "execution_count": 22
        }
      ]
    },
    {
      "cell_type": "code",
      "metadata": {
        "id": "1BuPcezc1Qe6",
        "colab": {
          "base_uri": "https://localhost:8080/"
        },
        "outputId": "7e5e7119-d002-47c6-f86e-e643d72c33a4"
      },
      "source": [
        "9.732387e+08"
      ],
      "execution_count": null,
      "outputs": [
        {
          "output_type": "execute_result",
          "data": {
            "text/plain": [
              "973238700.0"
            ]
          },
          "metadata": {
            "tags": []
          },
          "execution_count": 23
        }
      ]
    },
    {
      "cell_type": "code",
      "metadata": {
        "id": "_L1Cc6puatbJ",
        "colab": {
          "base_uri": "https://localhost:8080/"
        },
        "outputId": "0f93bcd9-0efc-4631-a20f-5b304c49ef40"
      },
      "source": [
        "params"
      ],
      "execution_count": null,
      "outputs": [
        {
          "output_type": "execute_result",
          "data": {
            "text/plain": [
              "{'colsample_bytree': 1.0,\n",
              " 'learning_rate': 0.01,\n",
              " 'max_depth': 4.0,\n",
              " 'min_data_in_leaf': 2.0,\n",
              " 'n_estimators': 8,\n",
              " 'num_iterations': 1250.3490939784444,\n",
              " 'reg_alpha': 0.01,\n",
              " 'reg_lambda': 0.01,\n",
              " 'subsample': 0.01}"
            ]
          },
          "metadata": {
            "tags": []
          },
          "execution_count": 24
        }
      ]
    },
    {
      "cell_type": "markdown",
      "metadata": {
        "id": "4Y8sD6AqARRT"
      },
      "source": [
        "best params(R2 0.77/0.76), hdb_clusters\n",
        "\n",
        "params = {'colsample_bytree': 1.0, 'learning_rate': 0.01, 'max_depth': 4.0, 'min_data_in_leaf': 2.0, 'n_estimators': 8, 'num_iterations': 1200.3490939784444, 'reg_alpha': 0.01, 'reg_lambda': 0.01, 'subsample': 0.01}"
      ]
    },
    {
      "cell_type": "markdown",
      "metadata": {
        "id": "uVi5kIeVXBYu"
      },
      "source": [
        "## 모델 해석"
      ]
    },
    {
      "cell_type": "code",
      "metadata": {
        "colab": {
          "base_uri": "https://localhost:8080/"
        },
        "id": "p9zkms1-6wA0",
        "outputId": "b23fde5b-e082-46c1-9113-23bf29cd52c2"
      },
      "source": [
        "! pip install shap\n",
        "import shap"
      ],
      "execution_count": null,
      "outputs": [
        {
          "output_type": "stream",
          "text": [
            "Requirement already satisfied: shap in /usr/local/lib/python3.6/dist-packages (0.37.0)\n",
            "Requirement already satisfied: slicer==0.0.3 in /usr/local/lib/python3.6/dist-packages (from shap) (0.0.3)\n",
            "Requirement already satisfied: numba in /usr/local/lib/python3.6/dist-packages (from shap) (0.48.0)\n",
            "Requirement already satisfied: numpy in /usr/local/lib/python3.6/dist-packages (from shap) (1.18.5)\n",
            "Requirement already satisfied: pandas in /usr/local/lib/python3.6/dist-packages (from shap) (1.1.4)\n",
            "Requirement already satisfied: scipy in /usr/local/lib/python3.6/dist-packages (from shap) (1.4.1)\n",
            "Requirement already satisfied: scikit-learn in /usr/local/lib/python3.6/dist-packages (from shap) (0.22.2.post1)\n",
            "Requirement already satisfied: tqdm>4.25.0 in /usr/local/lib/python3.6/dist-packages (from shap) (4.41.1)\n",
            "Requirement already satisfied: llvmlite<0.32.0,>=0.31.0dev0 in /usr/local/lib/python3.6/dist-packages (from numba->shap) (0.31.0)\n",
            "Requirement already satisfied: setuptools in /usr/local/lib/python3.6/dist-packages (from numba->shap) (50.3.2)\n",
            "Requirement already satisfied: pytz>=2017.2 in /usr/local/lib/python3.6/dist-packages (from pandas->shap) (2018.9)\n",
            "Requirement already satisfied: python-dateutil>=2.7.3 in /usr/local/lib/python3.6/dist-packages (from pandas->shap) (2.8.1)\n",
            "Requirement already satisfied: joblib>=0.11 in /usr/local/lib/python3.6/dist-packages (from scikit-learn->shap) (0.17.0)\n",
            "Requirement already satisfied: six>=1.5 in /usr/local/lib/python3.6/dist-packages (from python-dateutil>=2.7.3->pandas->shap) (1.15.0)\n"
          ],
          "name": "stdout"
        }
      ]
    },
    {
      "cell_type": "code",
      "metadata": {
        "id": "AcJZlqaE6UWz"
      },
      "source": [
        "X_importance = X_train\n",
        "\n",
        "# Explain model predictions using shap library:\n",
        "explainer = shap.TreeExplainer(model)\n",
        "shap_values = explainer.shap_values(X_importance)"
      ],
      "execution_count": null,
      "outputs": []
    },
    {
      "cell_type": "code",
      "metadata": {
        "colab": {
          "base_uri": "https://localhost:8080/",
          "height": 589
        },
        "id": "RDbCLYZG65YH",
        "outputId": "f6a3e566-86a4-4fe8-f50e-1f8b4f9fed64"
      },
      "source": [
        "# Plot summary_plot\n",
        "shap.summary_plot(shap_values, X_importance)"
      ],
      "execution_count": null,
      "outputs": [
        {
          "output_type": "display_data",
          "data": {
            "image/png": "[encoded data removed]",
            "text/plain": [
              "<Figure size 576x684 with 2 Axes>"
            ]
          },
          "metadata": {
            "tags": [],
            "image/png": {
              "width": 590,
              "height": 572
            },
            "needs_background": "light"
          }
        }
      ]
    },
    {
      "cell_type": "markdown",
      "metadata": {
        "id": "GRym_zMqxqV8"
      },
      "source": [
        "## model save"
      ]
    },
    {
      "cell_type": "code",
      "metadata": {
        "id": "Nf2CjsJTxoLx"
      },
      "source": [
        "# from sklearn.externals import joblib"
      ],
      "execution_count": null,
      "outputs": []
    },
    {
      "cell_type": "code",
      "metadata": {
        "id": "uZaXFwpfyyNX"
      },
      "source": [
        "# for i in range(len(models)):\n",
        "#   joblib.dump(models[i],'/content/drive/My Drive/Colab Notebooks/data/빅청캠/lgb_%s.pkl'%(i))"
      ],
      "execution_count": null,
      "outputs": []
    },
    {
      "cell_type": "code",
      "metadata": {
        "id": "OVTYkqz5bmtJ"
      },
      "source": [
        "# X_test['pred']=np.expm1(pred)\n",
        "# X_test['true']= y_test"
      ],
      "execution_count": null,
      "outputs": []
    },
    {
      "cell_type": "code",
      "metadata": {
        "id": "gJcHzFiWcwED"
      },
      "source": [
        "# X_test.groupby('공사')[['true','pred']].sum()"
      ],
      "execution_count": null,
      "outputs": []
    },
    {
      "cell_type": "code",
      "metadata": {
        "id": "wRXRt1QvdLsz"
      },
      "source": [
        "# plt.pie(X_test.groupby('공사')[['true','pred']].sum()['pred'],\n",
        "#         labels=X_test.groupby('공사')[['true','pred']].sum().index)\n",
        "# plt.show()"
      ],
      "execution_count": null,
      "outputs": []
    },
    {
      "cell_type": "code",
      "metadata": {
        "id": "D0OlZcEldo7h"
      },
      "source": [
        "# plt.pie(X_test.groupby('공사')[['true','pred']].sum()['true'],\n",
        "#         labels=X_test.groupby('공사')[['true','pred']].sum().index)\n",
        "# plt.show()"
      ],
      "execution_count": null,
      "outputs": []
    },
    {
      "cell_type": "code",
      "metadata": {
        "id": "t85wnTeQfa_0"
      },
      "source": [
        "# df[df['도급단가합계']<0]"
      ],
      "execution_count": null,
      "outputs": []
    }
  ]
}
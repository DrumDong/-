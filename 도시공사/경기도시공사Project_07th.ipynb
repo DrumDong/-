{
  "nbformat": 4,
  "nbformat_minor": 0,
  "metadata": {
    "colab": {
      "name": "경기도시공사Project_07th.ipynb",
      "provenance": [],
      "mount_file_id": "1nDYpqLHWNQkEJ2OvfPN7OH1C5KgdUEyR",
      "authorship_tag": "ABX9TyNNjUbvG7x0puA04vwKjFyf"
    },
    "kernelspec": {
      "name": "python3",
      "display_name": "Python 3"
    }
  },
  "cells": [
    {
      "cell_type": "markdown",
      "metadata": {
        "id": "hW80Q1wkzliz"
      },
      "source": [
        "# 파생변수 생성"
      ]
    },
    {
      "cell_type": "code",
      "metadata": {
        "id": "T42MEkR0zScF",
        "colab": {
          "base_uri": "https://localhost:8080/",
          "height": 52
        },
        "outputId": "7e6fa0e3-9eb4-4a10-bf78-69002d96c080"
      },
      "source": [
        "import pandas as pd\n",
        "import numpy as np\n",
        "import matplotlib as mpl\n",
        "import matplotlib.pyplot as plt\n",
        "import seaborn as sns\n",
        "\n",
        "import warnings\n",
        "warnings.filterwarnings(action = 'ignore')\n",
        "\n",
        "from scipy.spatial import distance\n",
        "from math import log2\n",
        "from math import sqrt\n",
        "from sklearn.cluster import AgglomerativeClustering"
      ],
      "execution_count": null,
      "outputs": [
        {
          "output_type": "stream",
          "text": [
            "/usr/local/lib/python3.6/dist-packages/statsmodels/tools/_testing.py:19: FutureWarning: pandas.util.testing is deprecated. Use the functions in the public API at pandas.testing instead.\n",
            "  import pandas.util.testing as tm\n"
          ],
          "name": "stderr"
        }
      ]
    },
    {
      "cell_type": "code",
      "metadata": {
        "id": "ZNy8SF-m0E9z",
        "colab": {
          "base_uri": "https://localhost:8080/",
          "height": 105
        },
        "outputId": "3b678d89-65bd-4242-b1d8-6e236aa3669e"
      },
      "source": [
        "%config InlineBackend.figure_format = 'retina'\n",
        " \n",
        "!apt -qq -y install fonts-nanum\n",
        " \n",
        "import matplotlib.font_manager as fm\n",
        "fontpath = '/usr/share/fonts/truetype/nanum/NanumBarunGothic.ttf'\n",
        "font = fm.FontProperties(fname=fontpath, size=9)\n",
        "plt.rc('font', family='NanumBarunGothic') \n",
        "mpl.font_manager._rebuild()"
      ],
      "execution_count": null,
      "outputs": [
        {
          "output_type": "stream",
          "text": [
            "fonts-nanum is already the newest version (20170925-1).\n",
            "The following package was automatically installed and is no longer required:\n",
            "  libnvidia-common-440\n",
            "Use 'apt autoremove' to remove it.\n",
            "0 upgraded, 0 newly installed, 0 to remove and 39 not upgraded.\n"
          ],
          "name": "stdout"
        }
      ]
    },
    {
      "cell_type": "code",
      "metadata": {
        "id": "fMURnYnS0YIw",
        "colab": {
          "base_uri": "https://localhost:8080/",
          "height": 321
        },
        "outputId": "2c3ff0dd-241a-4f41-b749-e5d2f5f31148"
      },
      "source": [
        "plt.figure(figsize=(5,5))\n",
        "plt.plot([0,1], [0,1], label='한글테스트용')\n",
        "plt.legend()\n",
        "plt.show()"
      ],
      "execution_count": null,
      "outputs": [
        {
          "output_type": "display_data",
          "data": {
            "image/png": "[encoded data removed]",
            "text/plain": [
              "<Figure size 360x360 with 1 Axes>"
            ]
          },
          "metadata": {
            "tags": [],
            "image/png": {
              "width": 315,
              "height": 304
            },
            "needs_background": "light"
          }
        }
      ]
    },
    {
      "cell_type": "code",
      "metadata": {
        "id": "YamFCuh_0bJJ",
        "colab": {
          "base_uri": "https://localhost:8080/",
          "height": 585
        },
        "outputId": "8e533581-9361-47b6-f66e-74ddf016db4d"
      },
      "source": [
        "df=pd.read_csv('/content/drive/My Drive/Colab Notebooks/data/빅청캠/real_final.csv')\n",
        "df.head()"
      ],
      "execution_count": null,
      "outputs": [
        {
          "output_type": "execute_result",
          "data": {
            "text/html": [
              "<div>\n",
              "<style scoped>\n",
              "    .dataframe tbody tr th:only-of-type {\n",
              "        vertical-align: middle;\n",
              "    }\n",
              "\n",
              "    .dataframe tbody tr th {\n",
              "        vertical-align: top;\n",
              "    }\n",
              "\n",
              "    .dataframe thead th {\n",
              "        text-align: right;\n",
              "    }\n",
              "</style>\n",
              "<table border=\"1\" class=\"dataframe\">\n",
              "  <thead>\n",
              "    <tr style=\"text-align: right;\">\n",
              "      <th></th>\n",
              "      <th>도시</th>\n",
              "      <th>공사</th>\n",
              "      <th>modified공종명</th>\n",
              "      <th>설계수량</th>\n",
              "      <th>설계재료비단가</th>\n",
              "      <th>설계노무비단가</th>\n",
              "      <th>설계경비단가</th>\n",
              "      <th>설계합계금액</th>\n",
              "      <th>도급수량</th>\n",
              "      <th>도급재료비단가</th>\n",
              "      <th>도급노무비단가</th>\n",
              "      <th>도급경비단가</th>\n",
              "      <th>도급합계금액</th>\n",
              "      <th>공구별면적</th>\n",
              "      <th>주거면적</th>\n",
              "      <th>주거면적(%)</th>\n",
              "      <th>공구별세대수</th>\n",
              "      <th>착공연도</th>\n",
              "      <th>준공연도</th>\n",
              "      <th>기간(월)</th>\n",
              "      <th>x</th>\n",
              "      <th>y</th>\n",
              "      <th>hdb_clusters</th>\n",
              "    </tr>\n",
              "  </thead>\n",
              "  <tbody>\n",
              "    <tr>\n",
              "      <th>0</th>\n",
              "      <td>광교1</td>\n",
              "      <td>구조물공사</td>\n",
              "      <td>강관파일기초</td>\n",
              "      <td>7337.0</td>\n",
              "      <td>1312053.0</td>\n",
              "      <td>611151.0</td>\n",
              "      <td>25142.0</td>\n",
              "      <td>4.488065e+09</td>\n",
              "      <td>7337.0</td>\n",
              "      <td>920662.0</td>\n",
              "      <td>459434.0</td>\n",
              "      <td>19325.0</td>\n",
              "      <td>3.257416e+09</td>\n",
              "      <td>1067184.0</td>\n",
              "      <td>604873.6</td>\n",
              "      <td>56.67941</td>\n",
              "      <td>9177.0</td>\n",
              "      <td>200710</td>\n",
              "      <td>201105</td>\n",
              "      <td>43.0</td>\n",
              "      <td>-24.076591</td>\n",
              "      <td>21.306380</td>\n",
              "      <td>254</td>\n",
              "    </tr>\n",
              "    <tr>\n",
              "      <th>1</th>\n",
              "      <td>광교1</td>\n",
              "      <td>구조물공사</td>\n",
              "      <td>되메우기및다짐</td>\n",
              "      <td>8973.0</td>\n",
              "      <td>415.0</td>\n",
              "      <td>1675.0</td>\n",
              "      <td>236.0</td>\n",
              "      <td>2.087120e+07</td>\n",
              "      <td>8973.0</td>\n",
              "      <td>212.0</td>\n",
              "      <td>816.0</td>\n",
              "      <td>367.0</td>\n",
              "      <td>1.251734e+07</td>\n",
              "      <td>1067184.0</td>\n",
              "      <td>604873.6</td>\n",
              "      <td>56.67941</td>\n",
              "      <td>9177.0</td>\n",
              "      <td>200710</td>\n",
              "      <td>201105</td>\n",
              "      <td>43.0</td>\n",
              "      <td>39.149840</td>\n",
              "      <td>-23.925344</td>\n",
              "      <td>292</td>\n",
              "    </tr>\n",
              "    <tr>\n",
              "      <th>2</th>\n",
              "      <td>광교1</td>\n",
              "      <td>구조물공사</td>\n",
              "      <td>뒷채움부설및다짐</td>\n",
              "      <td>1558.0</td>\n",
              "      <td>419.0</td>\n",
              "      <td>4200.0</td>\n",
              "      <td>393.0</td>\n",
              "      <td>7.808696e+06</td>\n",
              "      <td>1558.0</td>\n",
              "      <td>214.0</td>\n",
              "      <td>2049.0</td>\n",
              "      <td>615.0</td>\n",
              "      <td>4.483924e+06</td>\n",
              "      <td>1067184.0</td>\n",
              "      <td>604873.6</td>\n",
              "      <td>56.67941</td>\n",
              "      <td>9177.0</td>\n",
              "      <td>200710</td>\n",
              "      <td>201105</td>\n",
              "      <td>43.0</td>\n",
              "      <td>-6.275611</td>\n",
              "      <td>-40.735214</td>\n",
              "      <td>1019</td>\n",
              "    </tr>\n",
              "    <tr>\n",
              "      <th>3</th>\n",
              "      <td>광교1</td>\n",
              "      <td>구조물공사</td>\n",
              "      <td>보강토옹벽</td>\n",
              "      <td>402.0</td>\n",
              "      <td>295266.0</td>\n",
              "      <td>140498.0</td>\n",
              "      <td>10444.0</td>\n",
              "      <td>9.059399e+07</td>\n",
              "      <td>402.0</td>\n",
              "      <td>151507.0</td>\n",
              "      <td>68524.0</td>\n",
              "      <td>16391.0</td>\n",
              "      <td>4.757870e+07</td>\n",
              "      <td>1067184.0</td>\n",
              "      <td>604873.6</td>\n",
              "      <td>56.67941</td>\n",
              "      <td>9177.0</td>\n",
              "      <td>200710</td>\n",
              "      <td>201105</td>\n",
              "      <td>43.0</td>\n",
              "      <td>34.260254</td>\n",
              "      <td>23.648280</td>\n",
              "      <td>260</td>\n",
              "    </tr>\n",
              "    <tr>\n",
              "      <th>4</th>\n",
              "      <td>광교1</td>\n",
              "      <td>구조물공사</td>\n",
              "      <td>식생옹벽블럭</td>\n",
              "      <td>341.0</td>\n",
              "      <td>171792.0</td>\n",
              "      <td>29126.0</td>\n",
              "      <td>14282.0</td>\n",
              "      <td>7.338320e+07</td>\n",
              "      <td>341.0</td>\n",
              "      <td>88150.0</td>\n",
              "      <td>14205.0</td>\n",
              "      <td>22416.0</td>\n",
              "      <td>4.254691e+07</td>\n",
              "      <td>1067184.0</td>\n",
              "      <td>604873.6</td>\n",
              "      <td>56.67941</td>\n",
              "      <td>9177.0</td>\n",
              "      <td>200710</td>\n",
              "      <td>201105</td>\n",
              "      <td>43.0</td>\n",
              "      <td>27.405354</td>\n",
              "      <td>22.553220</td>\n",
              "      <td>265</td>\n",
              "    </tr>\n",
              "  </tbody>\n",
              "</table>\n",
              "</div>"
            ],
            "text/plain": [
              "    도시     공사 modified공종명    설계수량  ...  기간(월)          x          y  hdb_clusters\n",
              "0  광교1  구조물공사      강관파일기초  7337.0  ...   43.0 -24.076591  21.306380           254\n",
              "1  광교1  구조물공사     되메우기및다짐  8973.0  ...   43.0  39.149840 -23.925344           292\n",
              "2  광교1  구조물공사    뒷채움부설및다짐  1558.0  ...   43.0  -6.275611 -40.735214          1019\n",
              "3  광교1  구조물공사       보강토옹벽   402.0  ...   43.0  34.260254  23.648280           260\n",
              "4  광교1  구조물공사      식생옹벽블럭   341.0  ...   43.0  27.405354  22.553220           265\n",
              "\n",
              "[5 rows x 23 columns]"
            ]
          },
          "metadata": {
            "tags": []
          },
          "execution_count": 4
        }
      ]
    },
    {
      "cell_type": "code",
      "metadata": {
        "id": "ScRAEj-N1Vp9"
      },
      "source": [
        "df.loc[df['공사']=='상수도공사','공사'] = '상수공사'"
      ],
      "execution_count": null,
      "outputs": []
    },
    {
      "cell_type": "code",
      "metadata": {
        "id": "ba45_hzG6RcV"
      },
      "source": [
        "df['설계단가합계'] = df['설계재료비단가']+df['설계노무비단가']+df['설계경비단가']\n",
        "df['도급단가합계'] = df['도급재료비단가']+df['도급노무비단가']+df['도급경비단가']"
      ],
      "execution_count": null,
      "outputs": []
    },
    {
      "cell_type": "markdown",
      "metadata": {
        "id": "Ma6C8pa8znhF"
      },
      "source": [
        "## EDA에서 비롯한 변수 생성"
      ]
    },
    {
      "cell_type": "markdown",
      "metadata": {
        "id": "gcQCqFvi1W2g"
      },
      "source": [
        "### 공사별 티어 설정"
      ]
    },
    {
      "cell_type": "markdown",
      "metadata": {
        "id": "dpJ-kVSY25dj"
      },
      "source": [
        "### 공종명 아웃라이어 설정\n",
        "- RMSE나 R2 값 자체는 이상치에 영향을 많이 받기 때문에, 이상치를 설명해주는 변수를 만드는 것이 좋을 것으로 판단됨."
      ]
    },
    {
      "cell_type": "code",
      "metadata": {
        "id": "7eil0TjYxXvL"
      },
      "source": [
        "df['이상치']=0"
      ],
      "execution_count": null,
      "outputs": []
    },
    {
      "cell_type": "code",
      "metadata": {
        "id": "fCZFbM1fwWrQ"
      },
      "source": [
        "def make_detection(df,num,name_gong):\n",
        "  togong=df[df['공사']==name_gong].copy()\n",
        "  togong['설계합계비중']=togong['설계합계금액']/togong['설계합계금액'].sum()\n",
        "  togong['도급합계비중']=togong['도급합계금액']/togong['도급합계금액'].sum()\n",
        "  togong['비중차이'] = togong['설계합계비중'] - togong['도급합계비중']\n",
        "  return togong[abs(togong['비중차이'])>num][['modified공종명','설계합계비중','도급합계비중','비중차이']]"
      ],
      "execution_count": null,
      "outputs": []
    },
    {
      "cell_type": "code",
      "metadata": {
        "id": "YBlOmtNhw5b-"
      },
      "source": [
        "# 도시별 이상치 concat\n",
        "\n",
        "for name in df['공사'].unique():\n",
        "  outlierC=pd.concat([\n",
        "                      make_detection(df[df['도시']=='동탄2'],0.001,name),\n",
        "                      make_detection(df[df['도시']=='동탄3'],0.001,name),\n",
        "                      make_detection(df[df['도시']=='동탄5'],0.001,name),\n",
        "                      make_detection(df[df['도시']=='다산1'],0.001,name),\n",
        "                      make_detection(df[df['도시']=='다산2'],0.001,name),\n",
        "                      make_detection(df[df['도시']=='광교1'],0.001,name)])\n",
        "  for idx in outlierC.index:\n",
        "    df.loc[(df['modified공종명']==df.loc[idx,'modified공종명'])&\n",
        "           (df['공사']==name),\n",
        "           '이상치']=1"
      ],
      "execution_count": null,
      "outputs": []
    },
    {
      "cell_type": "code",
      "metadata": {
        "id": "vtGRf4SWZxaO",
        "colab": {
          "base_uri": "https://localhost:8080/",
          "height": 242
        },
        "outputId": "823f88be-a433-4d81-868f-d7f2a8c47af9"
      },
      "source": [
        "plt.figure(figsize=(12, 3))\n",
        "sns.swarmplot(x='공사',y=\"도급단가합계\", hue=\"이상치\", data=df[(df['공사']=='교량공사')|(df['공사']=='우수공사')|(df['공사']=='토공사')|(df['공사']=='공사')|(df['공사']=='부대공사')|(df['공사']=='오수공사')])\n",
        "plt.title(\"공사 별 이상치 Swarm Plot\")\n",
        "plt.legend(loc=1)\n",
        "plt.show()"
      ],
      "execution_count": null,
      "outputs": [
        {
          "output_type": "display_data",
          "data": {
            "image/png": "[encoded data removed]",
            "text/plain": [
              "<Figure size 864x216 with 1 Axes>"
            ]
          },
          "metadata": {
            "tags": [],
            "image/png": {
              "width": 711,
              "height": 225
            },
            "needs_background": "light"
          }
        }
      ]
    },
    {
      "cell_type": "code",
      "metadata": {
        "id": "XhBMmnPObsyX",
        "colab": {
          "base_uri": "https://localhost:8080/",
          "height": 52
        },
        "outputId": "0d83c6ea-1d75-43f8-e879-e410ae4cea7f"
      },
      "source": [
        "df['공사'].unique()"
      ],
      "execution_count": null,
      "outputs": [
        {
          "output_type": "execute_result",
          "data": {
            "text/plain": [
              "array(['구조물공사', '기타도로공사', '도로및포장공사', '부대공사', '상수공사', '오수공사', '우수공사',\n",
              "       '토공사', '가로수식재공사', '교량공사', '하천공사', '가로수유지관리공사'], dtype=object)"
            ]
          },
          "metadata": {
            "tags": []
          },
          "execution_count": 27
        }
      ]
    },
    {
      "cell_type": "markdown",
      "metadata": {
        "id": "aa3HN_eU3yas"
      },
      "source": [
        "### 구릉지\n",
        "- 전체 면적의 12%"
      ]
    },
    {
      "cell_type": "markdown",
      "metadata": {
        "id": "EYVxAH2pBgWy"
      },
      "source": [
        "### HDbscan 평균,편차 변수 생성"
      ]
    },
    {
      "cell_type": "code",
      "metadata": {
        "id": "idl2jz5sBq6c"
      },
      "source": [
        "hdb_mean = df.groupby(['hdb_clusters'])['도급단가합계'].mean().reset_index(name='hdb_mean')\n",
        "hdb_std = df.groupby(['hdb_clusters'])['도급단가합계'].std().reset_index(name='hdb_std')"
      ],
      "execution_count": null,
      "outputs": []
    },
    {
      "cell_type": "code",
      "metadata": {
        "id": "AnEULiN2DkwQ"
      },
      "source": [
        "df = df.merge(hdb_mean,on='hdb_clusters',how='left')\n",
        "df = df.merge(hdb_std,on='hdb_clusters',how='left')"
      ],
      "execution_count": null,
      "outputs": []
    },
    {
      "cell_type": "markdown",
      "metadata": {
        "id": "t5KmN7VxzqjB"
      },
      "source": [
        "## 클러스터링을 통한 변수 생성"
      ]
    },
    {
      "cell_type": "markdown",
      "metadata": {
        "id": "yhwhDpfhQVYl"
      },
      "source": [
        "클러스터를 만들 변수들을 생성하자."
      ]
    },
    {
      "cell_type": "code",
      "metadata": {
        "id": "0oycmt7_QY7_"
      },
      "source": [
        "# 단가합계\n",
        "df['설계단가합계'] = df['설계재료비단가']+df['설계노무비단가']+df['설계경비단가']\n",
        "df['도급단가합계'] = df['도급재료비단가']+df['도급노무비단가']+df['도급경비단가']\n",
        "\n",
        "# 단가합계비중\n",
        "df['도단합/전단합'] = df['도급단가합계']/(df['설계단가합계']+df['도급단가합계'])\n",
        "\n",
        "# 수량비중\n",
        "df['도수량/전수량'] = df['도급수량']/(df['설계수량']+df['도급수량'])"
      ],
      "execution_count": null,
      "outputs": []
    },
    {
      "cell_type": "code",
      "metadata": {
        "id": "vl7u851HAgOJ"
      },
      "source": [
        "def JensenShannon_similarity(df,input_list,cal_list,st_name):\n",
        "  '''\n",
        "  [함수 사용법]\n",
        "  input_list에는 groupby에 들어갈 기준 컬럼들 선택,\n",
        "  st_name은 도급단가합계 또는 비중차이로 접근할 것\n",
        "  '''\n",
        "  \n",
        "  make_price = df.groupby(input_list)[st_name].sum().reset_index()\n",
        "  name_list= make_price['modified공종명']\n",
        "  # pivot 만들기\n",
        "  price_sum = df.groupby(cal_list)[st_name].sum().reset_index(name='단가합계')\n",
        "  make_price = make_price.merge(price_sum,on=cal_list,how='left')\n",
        "  \n",
        "  if st_name == '도급단가합계':\n",
        "    make_price['price_prob'] = make_price[st_name]/make_price['단가합계']\n",
        "  else:\n",
        "    '''\n",
        "    도수량/전수량 변수는 비중의 변화를 비교하는 것이기 때문에\n",
        "    합계로 다시 나눌 필요가 없음.\n",
        "    '''              \n",
        "    make_price['price_prob'] = make_price[st_name]\n",
        "  \n",
        "  #pivot_table을 활용하여 long to wide 작업 실시\n",
        "  price_pivot= pd.pivot_table(make_price,\n",
        "                            index= 'modified공종명', # 분포 기준\n",
        "                            columns=cal_list,       # 분포 x축\n",
        "                            values='price_prob').reset_index()\n",
        "  price_pivot.fillna(0,inplace=True)\n",
        "  price_pivot.columns.get_level_values(level=0)\n",
        "  name_list = price_pivot['modified공종명']\n",
        "  '''\n",
        "  cal_list가 2개 이상이면 pivot_table의 column이\n",
        "  Multiindex형태로 바껴버리기 때문에 미리 이름을 꺼내 놓는 것.\n",
        "  '''\n",
        "  \n",
        "  #피벗된 price를 사용해 고객간의 유사도를 구해보자.\n",
        "  price_array=np.array(price_pivot.drop('modified공종명',axis=1))\n",
        "\n",
        "  js_similarity =[]\n",
        "  for row_r in range(price_array.shape[0]):       \n",
        "    dt_list=[]\n",
        "    for row_c in range(price_array.shape[0]):\n",
        "        #dt= js_divergence(price_pivot.iloc[row_r,3:].values,price_pivot.iloc[row_c,3:].values)\n",
        "        '''\n",
        "        js_divergence(만든 함수)로 하면 0값을 계산을 못함. \n",
        "        sqrt(js_divergence)인 distance.jensenshannon 함수 사용\n",
        "        '''\n",
        "        dt = distance.jensenshannon(price_array[row_r,:],price_array[row_c,:],2.0)\n",
        "        dt_list.append(dt)\n",
        "    js_similarity.append(dt_list)\n",
        "\n",
        "  js_frame =pd.DataFrame(np.array(js_similarity))\n",
        "  js_similarity = pd.concat([price_pivot,js_frame],axis=1)\n",
        "\n",
        "  return name_list,js_similarity"
      ],
      "execution_count": null,
      "outputs": []
    },
    {
      "cell_type": "code",
      "metadata": {
        "id": "gx4d-2-e__vK"
      },
      "source": [
        "def make_clustering(gp_df,input_list,cal_list,st_name,col_name,split_num=2):\n",
        "    name_list,df = JensenShannon_similarity(gp_df,input_list,cal_list,st_name)\n",
        "    df_s = df.iloc[:,-df.shape[0]:] # 클러스터링용 dataframe 생성\n",
        "    df_s.fillna(0,inplace=True)\n",
        "\n",
        "    #클러스터링\n",
        "    clustering = AgglomerativeClustering(n_clusters=int(df_s.shape[0]/2),\n",
        "                                      affinity='precomputed',\n",
        "                                      linkage='average')\n",
        "    clustering.fit(df_s)\n",
        "\n",
        "    #df_s.columns = name_list\n",
        "    #df_s.index = name_list\n",
        "    #df_s.to_csv('/content/drive/My Drive/Colab Notebooks/data/빅청캠/distance_d.csv',encoding='utf-8-sig')\n",
        "\n",
        "    return pd.DataFrame({'modified공종명':name_list,\n",
        "                         col_name:clustering.labels_})"
      ],
      "execution_count": null,
      "outputs": []
    },
    {
      "cell_type": "code",
      "metadata": {
        "id": "KmwxEIsJLVgK"
      },
      "source": [
        "df = df.merge(make_clustering(df,['도시','modified공종명'],['도시'],'도급단가합계','도-단cluster',2),on='modified공종명',how='left')"
      ],
      "execution_count": null,
      "outputs": []
    },
    {
      "cell_type": "code",
      "metadata": {
        "id": "QMlcdDSbAwox",
        "colab": {
          "base_uri": "https://localhost:8080/",
          "height": 422
        },
        "outputId": "8dd6e49b-628d-46ee-8864-2659c717d6be"
      },
      "source": [
        "df = df.merge(make_clustering(df,['도시','modified공종명'],['도시'],'도급단가합계','도-단cluster',2),on='modified공종명',how='left')\n",
        "df = df.merge(make_clustering(df,['공사','modified공종명'],['공사'],'도급단가합계','공-단cluster',2),on='modified공종명',how='left')\n",
        "df = df.merge(make_clustering(df,['도시','공사','modified공종명'],['도시','공사'],'도급단가합계','도공-단cluster',2),on='modified공종명',how='left')  \n",
        "\n",
        "df = df.merge(make_clustering(df,['도시','modified공종명'],['도시'],'도단합/전단합','도-단비cluster',2),on='modified공종명',how='left')\n",
        "df = df.merge(make_clustering(df,['공사','modified공종명'],['공사'],'도단합/전단합','공-단비cluster',2),on='modified공종명',how='left')\n",
        "df = df.merge(make_clustering(df,['도시','공사','modified공종명'],['도시','공사'],'도단합/전단합','도공-단비cluster',2),on='modified공종명',how='left')\n",
        "\n",
        "df = df.merge(make_clustering(df,['도시','modified공종명'],['도시'],'도수량/전수량','도-수비cluster',2),on='modified공종명',how='left')\n",
        "df = df.merge(make_clustering(df,['공사','modified공종명'],['공사'],'도수량/전수량','공-수비cluster',2),on='modified공종명',how='left')\n",
        "df = df.merge(make_clustering(df,['도시','공사','modified공종명'],['도시','공사'],'도수량/전수량','도공-수비cluster',2),on='modified공종명',how='left')"
      ],
      "execution_count": null,
      "outputs": [
        {
          "output_type": "error",
          "ename": "KeyboardInterrupt",
          "evalue": "ignored",
          "traceback": [
            "\u001b[0;31m---------------------------------------------------------------------------\u001b[0m",
            "\u001b[0;31mKeyboardInterrupt\u001b[0m                         Traceback (most recent call last)",
            "\u001b[0;32m<ipython-input-20-3d81b2251f17>\u001b[0m in \u001b[0;36m<module>\u001b[0;34m()\u001b[0m\n\u001b[0;32m----> 1\u001b[0;31m \u001b[0mdf\u001b[0m \u001b[0;34m=\u001b[0m \u001b[0mdf\u001b[0m\u001b[0;34m.\u001b[0m\u001b[0mmerge\u001b[0m\u001b[0;34m(\u001b[0m\u001b[0mmake_clustering\u001b[0m\u001b[0;34m(\u001b[0m\u001b[0mdf\u001b[0m\u001b[0;34m,\u001b[0m\u001b[0;34m[\u001b[0m\u001b[0;34m'도시'\u001b[0m\u001b[0;34m,\u001b[0m\u001b[0;34m'modified공종명'\u001b[0m\u001b[0;34m]\u001b[0m\u001b[0;34m,\u001b[0m\u001b[0;34m[\u001b[0m\u001b[0;34m'도시'\u001b[0m\u001b[0;34m]\u001b[0m\u001b[0;34m,\u001b[0m\u001b[0;34m'도급단가합계'\u001b[0m\u001b[0;34m,\u001b[0m\u001b[0;34m'도-단cluster'\u001b[0m\u001b[0;34m,\u001b[0m\u001b[0;36m2\u001b[0m\u001b[0;34m)\u001b[0m\u001b[0;34m,\u001b[0m\u001b[0mon\u001b[0m\u001b[0;34m=\u001b[0m\u001b[0;34m'modified공종명'\u001b[0m\u001b[0;34m,\u001b[0m\u001b[0mhow\u001b[0m\u001b[0;34m=\u001b[0m\u001b[0;34m'left'\u001b[0m\u001b[0;34m)\u001b[0m\u001b[0;34m\u001b[0m\u001b[0;34m\u001b[0m\u001b[0m\n\u001b[0m\u001b[1;32m      2\u001b[0m \u001b[0mdf\u001b[0m \u001b[0;34m=\u001b[0m \u001b[0mdf\u001b[0m\u001b[0;34m.\u001b[0m\u001b[0mmerge\u001b[0m\u001b[0;34m(\u001b[0m\u001b[0mmake_clustering\u001b[0m\u001b[0;34m(\u001b[0m\u001b[0mdf\u001b[0m\u001b[0;34m,\u001b[0m\u001b[0;34m[\u001b[0m\u001b[0;34m'공사'\u001b[0m\u001b[0;34m,\u001b[0m\u001b[0;34m'modified공종명'\u001b[0m\u001b[0;34m]\u001b[0m\u001b[0;34m,\u001b[0m\u001b[0;34m[\u001b[0m\u001b[0;34m'공사'\u001b[0m\u001b[0;34m]\u001b[0m\u001b[0;34m,\u001b[0m\u001b[0;34m'도급단가합계'\u001b[0m\u001b[0;34m,\u001b[0m\u001b[0;34m'공-단cluster'\u001b[0m\u001b[0;34m,\u001b[0m\u001b[0;36m2\u001b[0m\u001b[0;34m)\u001b[0m\u001b[0;34m,\u001b[0m\u001b[0mon\u001b[0m\u001b[0;34m=\u001b[0m\u001b[0;34m'modified공종명'\u001b[0m\u001b[0;34m,\u001b[0m\u001b[0mhow\u001b[0m\u001b[0;34m=\u001b[0m\u001b[0;34m'left'\u001b[0m\u001b[0;34m)\u001b[0m\u001b[0;34m\u001b[0m\u001b[0;34m\u001b[0m\u001b[0m\n\u001b[1;32m      3\u001b[0m \u001b[0mdf\u001b[0m \u001b[0;34m=\u001b[0m \u001b[0mdf\u001b[0m\u001b[0;34m.\u001b[0m\u001b[0mmerge\u001b[0m\u001b[0;34m(\u001b[0m\u001b[0mmake_clustering\u001b[0m\u001b[0;34m(\u001b[0m\u001b[0mdf\u001b[0m\u001b[0;34m,\u001b[0m\u001b[0;34m[\u001b[0m\u001b[0;34m'도시'\u001b[0m\u001b[0;34m,\u001b[0m\u001b[0;34m'공사'\u001b[0m\u001b[0;34m,\u001b[0m\u001b[0;34m'modified공종명'\u001b[0m\u001b[0;34m]\u001b[0m\u001b[0;34m,\u001b[0m\u001b[0;34m[\u001b[0m\u001b[0;34m'도시'\u001b[0m\u001b[0;34m,\u001b[0m\u001b[0;34m'공사'\u001b[0m\u001b[0;34m]\u001b[0m\u001b[0;34m,\u001b[0m\u001b[0;34m'도급단가합계'\u001b[0m\u001b[0;34m,\u001b[0m\u001b[0;34m'도공-단cluster'\u001b[0m\u001b[0;34m,\u001b[0m\u001b[0;36m2\u001b[0m\u001b[0;34m)\u001b[0m\u001b[0;34m,\u001b[0m\u001b[0mon\u001b[0m\u001b[0;34m=\u001b[0m\u001b[0;34m'modified공종명'\u001b[0m\u001b[0;34m,\u001b[0m\u001b[0mhow\u001b[0m\u001b[0;34m=\u001b[0m\u001b[0;34m'left'\u001b[0m\u001b[0;34m)\u001b[0m\u001b[0;34m\u001b[0m\u001b[0;34m\u001b[0m\u001b[0m\n\u001b[1;32m      4\u001b[0m \u001b[0;34m\u001b[0m\u001b[0m\n\u001b[1;32m      5\u001b[0m \u001b[0mdf\u001b[0m \u001b[0;34m=\u001b[0m \u001b[0mdf\u001b[0m\u001b[0;34m.\u001b[0m\u001b[0mmerge\u001b[0m\u001b[0;34m(\u001b[0m\u001b[0mmake_clustering\u001b[0m\u001b[0;34m(\u001b[0m\u001b[0mdf\u001b[0m\u001b[0;34m,\u001b[0m\u001b[0;34m[\u001b[0m\u001b[0;34m'도시'\u001b[0m\u001b[0;34m,\u001b[0m\u001b[0;34m'modified공종명'\u001b[0m\u001b[0;34m]\u001b[0m\u001b[0;34m,\u001b[0m\u001b[0;34m[\u001b[0m\u001b[0;34m'도시'\u001b[0m\u001b[0;34m]\u001b[0m\u001b[0;34m,\u001b[0m\u001b[0;34m'도단합/전단합'\u001b[0m\u001b[0;34m,\u001b[0m\u001b[0;34m'도-단비cluster'\u001b[0m\u001b[0;34m,\u001b[0m\u001b[0;36m2\u001b[0m\u001b[0;34m)\u001b[0m\u001b[0;34m,\u001b[0m\u001b[0mon\u001b[0m\u001b[0;34m=\u001b[0m\u001b[0;34m'modified공종명'\u001b[0m\u001b[0;34m,\u001b[0m\u001b[0mhow\u001b[0m\u001b[0;34m=\u001b[0m\u001b[0;34m'left'\u001b[0m\u001b[0;34m)\u001b[0m\u001b[0;34m\u001b[0m\u001b[0;34m\u001b[0m\u001b[0m\n",
            "\u001b[0;32m<ipython-input-19-52ae6c4e12e2>\u001b[0m in \u001b[0;36mmake_clustering\u001b[0;34m(gp_df, input_list, cal_list, st_name, col_name, split_num)\u001b[0m\n\u001b[1;32m      1\u001b[0m \u001b[0;32mdef\u001b[0m \u001b[0mmake_clustering\u001b[0m\u001b[0;34m(\u001b[0m\u001b[0mgp_df\u001b[0m\u001b[0;34m,\u001b[0m\u001b[0minput_list\u001b[0m\u001b[0;34m,\u001b[0m\u001b[0mcal_list\u001b[0m\u001b[0;34m,\u001b[0m\u001b[0mst_name\u001b[0m\u001b[0;34m,\u001b[0m\u001b[0mcol_name\u001b[0m\u001b[0;34m,\u001b[0m\u001b[0msplit_num\u001b[0m\u001b[0;34m=\u001b[0m\u001b[0;36m2\u001b[0m\u001b[0;34m)\u001b[0m\u001b[0;34m:\u001b[0m\u001b[0;34m\u001b[0m\u001b[0;34m\u001b[0m\u001b[0m\n\u001b[0;32m----> 2\u001b[0;31m     \u001b[0mname_list\u001b[0m\u001b[0;34m,\u001b[0m\u001b[0mdf\u001b[0m \u001b[0;34m=\u001b[0m \u001b[0mJensenShannon_similarity\u001b[0m\u001b[0;34m(\u001b[0m\u001b[0mgp_df\u001b[0m\u001b[0;34m,\u001b[0m\u001b[0minput_list\u001b[0m\u001b[0;34m,\u001b[0m\u001b[0mcal_list\u001b[0m\u001b[0;34m,\u001b[0m\u001b[0mst_name\u001b[0m\u001b[0;34m)\u001b[0m\u001b[0;34m\u001b[0m\u001b[0;34m\u001b[0m\u001b[0m\n\u001b[0m\u001b[1;32m      3\u001b[0m     \u001b[0mdf_s\u001b[0m \u001b[0;34m=\u001b[0m \u001b[0mdf\u001b[0m\u001b[0;34m.\u001b[0m\u001b[0miloc\u001b[0m\u001b[0;34m[\u001b[0m\u001b[0;34m:\u001b[0m\u001b[0;34m,\u001b[0m\u001b[0;34m-\u001b[0m\u001b[0mdf\u001b[0m\u001b[0;34m.\u001b[0m\u001b[0mshape\u001b[0m\u001b[0;34m[\u001b[0m\u001b[0;36m0\u001b[0m\u001b[0;34m]\u001b[0m\u001b[0;34m:\u001b[0m\u001b[0;34m]\u001b[0m \u001b[0;31m# 클러스터링용 dataframe 생성\u001b[0m\u001b[0;34m\u001b[0m\u001b[0;34m\u001b[0m\u001b[0m\n\u001b[1;32m      4\u001b[0m     \u001b[0mdf_s\u001b[0m\u001b[0;34m.\u001b[0m\u001b[0mfillna\u001b[0m\u001b[0;34m(\u001b[0m\u001b[0;36m0\u001b[0m\u001b[0;34m,\u001b[0m\u001b[0minplace\u001b[0m\u001b[0;34m=\u001b[0m\u001b[0;32mTrue\u001b[0m\u001b[0;34m)\u001b[0m\u001b[0;34m\u001b[0m\u001b[0;34m\u001b[0m\u001b[0m\n\u001b[1;32m      5\u001b[0m \u001b[0;34m\u001b[0m\u001b[0m\n",
            "\u001b[0;32m<ipython-input-13-9397f770674d>\u001b[0m in \u001b[0;36mJensenShannon_similarity\u001b[0;34m(df, input_list, cal_list, st_name)\u001b[0m\n\u001b[1;32m     46\u001b[0m         \u001b[0msqrt\u001b[0m\u001b[0;34m(\u001b[0m\u001b[0mjs_divergence\u001b[0m\u001b[0;34m)\u001b[0m\u001b[0m인\u001b[0m \u001b[0mdistance\u001b[0m\u001b[0;34m.\u001b[0m\u001b[0mjensenshannon\u001b[0m \u001b[0m함수\u001b[0m \u001b[0m사용\u001b[0m\u001b[0;34m\u001b[0m\u001b[0;34m\u001b[0m\u001b[0m\n\u001b[1;32m     47\u001b[0m         '''\n\u001b[0;32m---> 48\u001b[0;31m         \u001b[0mdt\u001b[0m \u001b[0;34m=\u001b[0m \u001b[0mdistance\u001b[0m\u001b[0;34m.\u001b[0m\u001b[0mjensenshannon\u001b[0m\u001b[0;34m(\u001b[0m\u001b[0mprice_array\u001b[0m\u001b[0;34m[\u001b[0m\u001b[0mrow_r\u001b[0m\u001b[0;34m,\u001b[0m\u001b[0;34m:\u001b[0m\u001b[0;34m]\u001b[0m\u001b[0;34m,\u001b[0m\u001b[0mprice_array\u001b[0m\u001b[0;34m[\u001b[0m\u001b[0mrow_c\u001b[0m\u001b[0;34m,\u001b[0m\u001b[0;34m:\u001b[0m\u001b[0;34m]\u001b[0m\u001b[0;34m,\u001b[0m\u001b[0;36m2.0\u001b[0m\u001b[0;34m)\u001b[0m\u001b[0;34m\u001b[0m\u001b[0;34m\u001b[0m\u001b[0m\n\u001b[0m\u001b[1;32m     49\u001b[0m         \u001b[0mdt_list\u001b[0m\u001b[0;34m.\u001b[0m\u001b[0mappend\u001b[0m\u001b[0;34m(\u001b[0m\u001b[0mdt\u001b[0m\u001b[0;34m)\u001b[0m\u001b[0;34m\u001b[0m\u001b[0;34m\u001b[0m\u001b[0m\n\u001b[1;32m     50\u001b[0m     \u001b[0mjs_similarity\u001b[0m\u001b[0;34m.\u001b[0m\u001b[0mappend\u001b[0m\u001b[0;34m(\u001b[0m\u001b[0mdt_list\u001b[0m\u001b[0;34m)\u001b[0m\u001b[0;34m\u001b[0m\u001b[0;34m\u001b[0m\u001b[0m\n",
            "\u001b[0;32m/usr/local/lib/python3.6/dist-packages/scipy/spatial/distance.py\u001b[0m in \u001b[0;36mjensenshannon\u001b[0;34m(p, q, base)\u001b[0m\n\u001b[1;32m   1291\u001b[0m     \u001b[0mleft\u001b[0m \u001b[0;34m=\u001b[0m \u001b[0mrel_entr\u001b[0m\u001b[0;34m(\u001b[0m\u001b[0mp\u001b[0m\u001b[0;34m,\u001b[0m \u001b[0mm\u001b[0m\u001b[0;34m)\u001b[0m\u001b[0;34m\u001b[0m\u001b[0;34m\u001b[0m\u001b[0m\n\u001b[1;32m   1292\u001b[0m     \u001b[0mright\u001b[0m \u001b[0;34m=\u001b[0m \u001b[0mrel_entr\u001b[0m\u001b[0;34m(\u001b[0m\u001b[0mq\u001b[0m\u001b[0;34m,\u001b[0m \u001b[0mm\u001b[0m\u001b[0;34m)\u001b[0m\u001b[0;34m\u001b[0m\u001b[0;34m\u001b[0m\u001b[0m\n\u001b[0;32m-> 1293\u001b[0;31m     \u001b[0mjs\u001b[0m \u001b[0;34m=\u001b[0m \u001b[0mnp\u001b[0m\u001b[0;34m.\u001b[0m\u001b[0msum\u001b[0m\u001b[0;34m(\u001b[0m\u001b[0mleft\u001b[0m\u001b[0;34m,\u001b[0m \u001b[0maxis\u001b[0m\u001b[0;34m=\u001b[0m\u001b[0;36m0\u001b[0m\u001b[0;34m)\u001b[0m \u001b[0;34m+\u001b[0m \u001b[0mnp\u001b[0m\u001b[0;34m.\u001b[0m\u001b[0msum\u001b[0m\u001b[0;34m(\u001b[0m\u001b[0mright\u001b[0m\u001b[0;34m,\u001b[0m \u001b[0maxis\u001b[0m\u001b[0;34m=\u001b[0m\u001b[0;36m0\u001b[0m\u001b[0;34m)\u001b[0m\u001b[0;34m\u001b[0m\u001b[0;34m\u001b[0m\u001b[0m\n\u001b[0m\u001b[1;32m   1294\u001b[0m     \u001b[0;32mif\u001b[0m \u001b[0mbase\u001b[0m \u001b[0;32mis\u001b[0m \u001b[0;32mnot\u001b[0m \u001b[0;32mNone\u001b[0m\u001b[0;34m:\u001b[0m\u001b[0;34m\u001b[0m\u001b[0;34m\u001b[0m\u001b[0m\n\u001b[1;32m   1295\u001b[0m         \u001b[0mjs\u001b[0m \u001b[0;34m/=\u001b[0m \u001b[0mnp\u001b[0m\u001b[0;34m.\u001b[0m\u001b[0mlog\u001b[0m\u001b[0;34m(\u001b[0m\u001b[0mbase\u001b[0m\u001b[0;34m)\u001b[0m\u001b[0;34m\u001b[0m\u001b[0;34m\u001b[0m\u001b[0m\n",
            "\u001b[0;32m<__array_function__ internals>\u001b[0m in \u001b[0;36msum\u001b[0;34m(*args, **kwargs)\u001b[0m\n",
            "\u001b[0;32m/usr/local/lib/python3.6/dist-packages/numpy/core/fromnumeric.py\u001b[0m in \u001b[0;36msum\u001b[0;34m(a, axis, dtype, out, keepdims, initial, where)\u001b[0m\n\u001b[1;32m   2227\u001b[0m \u001b[0;34m\u001b[0m\u001b[0m\n\u001b[1;32m   2228\u001b[0m     return _wrapreduction(a, np.add, 'sum', axis, dtype, out, keepdims=keepdims,\n\u001b[0;32m-> 2229\u001b[0;31m                           initial=initial, where=where)\n\u001b[0m\u001b[1;32m   2230\u001b[0m \u001b[0;34m\u001b[0m\u001b[0m\n\u001b[1;32m   2231\u001b[0m \u001b[0;34m\u001b[0m\u001b[0m\n",
            "\u001b[0;32m/usr/local/lib/python3.6/dist-packages/numpy/core/fromnumeric.py\u001b[0m in \u001b[0;36m_wrapreduction\u001b[0;34m(obj, ufunc, method, axis, dtype, out, **kwargs)\u001b[0m\n\u001b[1;32m     72\u001b[0m \u001b[0;34m\u001b[0m\u001b[0m\n\u001b[1;32m     73\u001b[0m \u001b[0;32mdef\u001b[0m \u001b[0m_wrapreduction\u001b[0m\u001b[0;34m(\u001b[0m\u001b[0mobj\u001b[0m\u001b[0;34m,\u001b[0m \u001b[0mufunc\u001b[0m\u001b[0;34m,\u001b[0m \u001b[0mmethod\u001b[0m\u001b[0;34m,\u001b[0m \u001b[0maxis\u001b[0m\u001b[0;34m,\u001b[0m \u001b[0mdtype\u001b[0m\u001b[0;34m,\u001b[0m \u001b[0mout\u001b[0m\u001b[0;34m,\u001b[0m \u001b[0;34m**\u001b[0m\u001b[0mkwargs\u001b[0m\u001b[0;34m)\u001b[0m\u001b[0;34m:\u001b[0m\u001b[0;34m\u001b[0m\u001b[0;34m\u001b[0m\u001b[0m\n\u001b[0;32m---> 74\u001b[0;31m     passkwargs = {k: v for k, v in kwargs.items()\n\u001b[0m\u001b[1;32m     75\u001b[0m                   if v is not np._NoValue}\n\u001b[1;32m     76\u001b[0m \u001b[0;34m\u001b[0m\u001b[0m\n",
            "\u001b[0;31mKeyboardInterrupt\u001b[0m: "
          ]
        }
      ]
    },
    {
      "cell_type": "code",
      "metadata": {
        "id": "vsUhYMyFP89x"
      },
      "source": [
        "def make_pasang(input_df,name):\n",
        "  group_mean = input_df.groupby([name])['도급단가합계'].mean().reset_index(name=name+'mean')\n",
        "  group_std = input_df.groupby([name])['도급단가합계'].std().reset_index(name=name+'std')\n",
        "  input_df = input_df.merge(group_mean,on=name,how='left')\n",
        "  input_df = input_df.merge(group_std,on=name,how='left')\n",
        "\n",
        "  return input_df"
      ],
      "execution_count": null,
      "outputs": []
    },
    {
      "cell_type": "code",
      "metadata": {
        "id": "SSe8NxxbRhI9",
        "colab": {
          "base_uri": "https://localhost:8080/",
          "height": 649
        },
        "outputId": "d91ea492-0977-4f57-f883-3c9667e3ca4e"
      },
      "source": [
        "for col in ['도-단cluster', '공-단cluster', '도공-단cluster', '도-단비cluster', '공-단비cluster','도공-단비cluster', '도-수비cluster', '공-수비cluster', '도공-수비cluster']:\n",
        "  df = make_pasang(df,col)\n",
        "df.head()"
      ],
      "execution_count": null,
      "outputs": [
        {
          "output_type": "execute_result",
          "data": {
            "text/html": [
              "<div>\n",
              "<style scoped>\n",
              "    .dataframe tbody tr th:only-of-type {\n",
              "        vertical-align: middle;\n",
              "    }\n",
              "\n",
              "    .dataframe tbody tr th {\n",
              "        vertical-align: top;\n",
              "    }\n",
              "\n",
              "    .dataframe thead th {\n",
              "        text-align: right;\n",
              "    }\n",
              "</style>\n",
              "<table border=\"1\" class=\"dataframe\">\n",
              "  <thead>\n",
              "    <tr style=\"text-align: right;\">\n",
              "      <th></th>\n",
              "      <th>도시</th>\n",
              "      <th>공사</th>\n",
              "      <th>modified공종명</th>\n",
              "      <th>설계수량</th>\n",
              "      <th>설계재료비단가</th>\n",
              "      <th>설계노무비단가</th>\n",
              "      <th>설계경비단가</th>\n",
              "      <th>설계합계금액</th>\n",
              "      <th>도급수량</th>\n",
              "      <th>도급재료비단가</th>\n",
              "      <th>도급노무비단가</th>\n",
              "      <th>도급경비단가</th>\n",
              "      <th>도급합계금액</th>\n",
              "      <th>공구별면적</th>\n",
              "      <th>주거면적</th>\n",
              "      <th>주거면적(%)</th>\n",
              "      <th>공구별세대수</th>\n",
              "      <th>착공연도</th>\n",
              "      <th>준공연도</th>\n",
              "      <th>기간(월)</th>\n",
              "      <th>x</th>\n",
              "      <th>y</th>\n",
              "      <th>hdb_clusters</th>\n",
              "      <th>설계단가합계</th>\n",
              "      <th>도급단가합계</th>\n",
              "      <th>이상치</th>\n",
              "      <th>hdb_mean</th>\n",
              "      <th>hdb_std</th>\n",
              "      <th>도단합/전단합</th>\n",
              "      <th>도수량/전수량</th>\n",
              "      <th>도-단cluster</th>\n",
              "      <th>공-단cluster</th>\n",
              "      <th>도공-단cluster</th>\n",
              "      <th>도-단비cluster</th>\n",
              "      <th>공-단비cluster</th>\n",
              "      <th>도공-단비cluster</th>\n",
              "      <th>도-수비cluster</th>\n",
              "      <th>공-수비cluster</th>\n",
              "      <th>도공-수비cluster</th>\n",
              "      <th>도-단clustermean</th>\n",
              "      <th>도-단clusterstd</th>\n",
              "      <th>공-단clustermean</th>\n",
              "      <th>공-단clusterstd</th>\n",
              "      <th>도공-단clustermean</th>\n",
              "      <th>도공-단clusterstd</th>\n",
              "      <th>도-단비clustermean</th>\n",
              "      <th>도-단비clusterstd</th>\n",
              "      <th>공-단비clustermean</th>\n",
              "      <th>공-단비clusterstd</th>\n",
              "      <th>도공-단비clustermean</th>\n",
              "      <th>도공-단비clusterstd</th>\n",
              "      <th>도-수비clustermean</th>\n",
              "      <th>도-수비clusterstd</th>\n",
              "      <th>공-수비clustermean</th>\n",
              "      <th>공-수비clusterstd</th>\n",
              "      <th>도공-수비clustermean</th>\n",
              "      <th>도공-수비clusterstd</th>\n",
              "    </tr>\n",
              "  </thead>\n",
              "  <tbody>\n",
              "    <tr>\n",
              "      <th>0</th>\n",
              "      <td>광교1</td>\n",
              "      <td>구조물공사</td>\n",
              "      <td>강관파일기초</td>\n",
              "      <td>7337.0</td>\n",
              "      <td>1312053.0</td>\n",
              "      <td>611151.0</td>\n",
              "      <td>25142.0</td>\n",
              "      <td>4.488065e+09</td>\n",
              "      <td>7337.0</td>\n",
              "      <td>920662.0</td>\n",
              "      <td>459434.0</td>\n",
              "      <td>19325.0</td>\n",
              "      <td>3.257416e+09</td>\n",
              "      <td>1067184.0</td>\n",
              "      <td>604873.6</td>\n",
              "      <td>56.67941</td>\n",
              "      <td>9177.0</td>\n",
              "      <td>200710</td>\n",
              "      <td>201105</td>\n",
              "      <td>43.0</td>\n",
              "      <td>-24.076591</td>\n",
              "      <td>21.306380</td>\n",
              "      <td>254</td>\n",
              "      <td>1948346.0</td>\n",
              "      <td>1399421.0</td>\n",
              "      <td>1</td>\n",
              "      <td>383301.857143</td>\n",
              "      <td>485940.558325</td>\n",
              "      <td>0.418016</td>\n",
              "      <td>0.5</td>\n",
              "      <td>17</td>\n",
              "      <td>6</td>\n",
              "      <td>9</td>\n",
              "      <td>2</td>\n",
              "      <td>22</td>\n",
              "      <td>74</td>\n",
              "      <td>22</td>\n",
              "      <td>3</td>\n",
              "      <td>80</td>\n",
              "      <td>1.936300e+06</td>\n",
              "      <td>1.235332e+07</td>\n",
              "      <td>318080.400000</td>\n",
              "      <td>608002.829725</td>\n",
              "      <td>586871.333333</td>\n",
              "      <td>705899.572921</td>\n",
              "      <td>905478.762774</td>\n",
              "      <td>2.400655e+06</td>\n",
              "      <td>318080.400000</td>\n",
              "      <td>608002.829725</td>\n",
              "      <td>817921.500000</td>\n",
              "      <td>822364.479413</td>\n",
              "      <td>1.015044e+06</td>\n",
              "      <td>2.455870e+06</td>\n",
              "      <td>124222.157895</td>\n",
              "      <td>318363.549917</td>\n",
              "      <td>817921.500000</td>\n",
              "      <td>822364.479413</td>\n",
              "    </tr>\n",
              "    <tr>\n",
              "      <th>1</th>\n",
              "      <td>광교1</td>\n",
              "      <td>구조물공사</td>\n",
              "      <td>되메우기및다짐</td>\n",
              "      <td>8973.0</td>\n",
              "      <td>415.0</td>\n",
              "      <td>1675.0</td>\n",
              "      <td>236.0</td>\n",
              "      <td>2.087120e+07</td>\n",
              "      <td>8973.0</td>\n",
              "      <td>212.0</td>\n",
              "      <td>816.0</td>\n",
              "      <td>367.0</td>\n",
              "      <td>1.251734e+07</td>\n",
              "      <td>1067184.0</td>\n",
              "      <td>604873.6</td>\n",
              "      <td>56.67941</td>\n",
              "      <td>9177.0</td>\n",
              "      <td>200710</td>\n",
              "      <td>201105</td>\n",
              "      <td>43.0</td>\n",
              "      <td>39.149840</td>\n",
              "      <td>-23.925344</td>\n",
              "      <td>292</td>\n",
              "      <td>2326.0</td>\n",
              "      <td>1395.0</td>\n",
              "      <td>0</td>\n",
              "      <td>9276.842105</td>\n",
              "      <td>10462.150381</td>\n",
              "      <td>0.374899</td>\n",
              "      <td>0.5</td>\n",
              "      <td>407</td>\n",
              "      <td>372</td>\n",
              "      <td>500</td>\n",
              "      <td>444</td>\n",
              "      <td>543</td>\n",
              "      <td>631</td>\n",
              "      <td>479</td>\n",
              "      <td>607</td>\n",
              "      <td>303</td>\n",
              "      <td>8.410143e+03</td>\n",
              "      <td>6.149926e+03</td>\n",
              "      <td>8410.142857</td>\n",
              "      <td>6149.926039</td>\n",
              "      <td>8410.142857</td>\n",
              "      <td>6149.926039</td>\n",
              "      <td>8410.142857</td>\n",
              "      <td>6.149926e+03</td>\n",
              "      <td>8410.142857</td>\n",
              "      <td>6149.926039</td>\n",
              "      <td>8410.142857</td>\n",
              "      <td>6149.926039</td>\n",
              "      <td>8.410143e+03</td>\n",
              "      <td>6.149926e+03</td>\n",
              "      <td>8410.142857</td>\n",
              "      <td>6149.926039</td>\n",
              "      <td>8410.142857</td>\n",
              "      <td>6149.926039</td>\n",
              "    </tr>\n",
              "    <tr>\n",
              "      <th>2</th>\n",
              "      <td>광교1</td>\n",
              "      <td>구조물공사</td>\n",
              "      <td>뒷채움부설및다짐</td>\n",
              "      <td>1558.0</td>\n",
              "      <td>419.0</td>\n",
              "      <td>4200.0</td>\n",
              "      <td>393.0</td>\n",
              "      <td>7.808696e+06</td>\n",
              "      <td>1558.0</td>\n",
              "      <td>214.0</td>\n",
              "      <td>2049.0</td>\n",
              "      <td>615.0</td>\n",
              "      <td>4.483924e+06</td>\n",
              "      <td>1067184.0</td>\n",
              "      <td>604873.6</td>\n",
              "      <td>56.67941</td>\n",
              "      <td>9177.0</td>\n",
              "      <td>200710</td>\n",
              "      <td>201105</td>\n",
              "      <td>43.0</td>\n",
              "      <td>-6.275611</td>\n",
              "      <td>-40.735214</td>\n",
              "      <td>1019</td>\n",
              "      <td>5012.0</td>\n",
              "      <td>2878.0</td>\n",
              "      <td>1</td>\n",
              "      <td>10549.523810</td>\n",
              "      <td>14778.036032</td>\n",
              "      <td>0.364766</td>\n",
              "      <td>0.5</td>\n",
              "      <td>520</td>\n",
              "      <td>415</td>\n",
              "      <td>253</td>\n",
              "      <td>625</td>\n",
              "      <td>416</td>\n",
              "      <td>423</td>\n",
              "      <td>595</td>\n",
              "      <td>439</td>\n",
              "      <td>503</td>\n",
              "      <td>4.952800e+03</td>\n",
              "      <td>1.160361e+03</td>\n",
              "      <td>4952.800000</td>\n",
              "      <td>1160.361452</td>\n",
              "      <td>4952.800000</td>\n",
              "      <td>1160.361452</td>\n",
              "      <td>4952.800000</td>\n",
              "      <td>1.160361e+03</td>\n",
              "      <td>4952.800000</td>\n",
              "      <td>1160.361452</td>\n",
              "      <td>4952.800000</td>\n",
              "      <td>1160.361452</td>\n",
              "      <td>4.952800e+03</td>\n",
              "      <td>1.160361e+03</td>\n",
              "      <td>4952.800000</td>\n",
              "      <td>1160.361452</td>\n",
              "      <td>4952.800000</td>\n",
              "      <td>1160.361452</td>\n",
              "    </tr>\n",
              "    <tr>\n",
              "      <th>3</th>\n",
              "      <td>광교1</td>\n",
              "      <td>구조물공사</td>\n",
              "      <td>보강토옹벽</td>\n",
              "      <td>402.0</td>\n",
              "      <td>295266.0</td>\n",
              "      <td>140498.0</td>\n",
              "      <td>10444.0</td>\n",
              "      <td>9.059399e+07</td>\n",
              "      <td>402.0</td>\n",
              "      <td>151507.0</td>\n",
              "      <td>68524.0</td>\n",
              "      <td>16391.0</td>\n",
              "      <td>4.757870e+07</td>\n",
              "      <td>1067184.0</td>\n",
              "      <td>604873.6</td>\n",
              "      <td>56.67941</td>\n",
              "      <td>9177.0</td>\n",
              "      <td>200710</td>\n",
              "      <td>201105</td>\n",
              "      <td>43.0</td>\n",
              "      <td>34.260254</td>\n",
              "      <td>23.648280</td>\n",
              "      <td>260</td>\n",
              "      <td>446208.0</td>\n",
              "      <td>236422.0</td>\n",
              "      <td>1</td>\n",
              "      <td>163376.000000</td>\n",
              "      <td>103302.643877</td>\n",
              "      <td>0.346340</td>\n",
              "      <td>0.5</td>\n",
              "      <td>17</td>\n",
              "      <td>678</td>\n",
              "      <td>9</td>\n",
              "      <td>2</td>\n",
              "      <td>369</td>\n",
              "      <td>74</td>\n",
              "      <td>22</td>\n",
              "      <td>3</td>\n",
              "      <td>80</td>\n",
              "      <td>1.936300e+06</td>\n",
              "      <td>1.235332e+07</td>\n",
              "      <td>236422.000000</td>\n",
              "      <td>NaN</td>\n",
              "      <td>586871.333333</td>\n",
              "      <td>705899.572921</td>\n",
              "      <td>905478.762774</td>\n",
              "      <td>2.400655e+06</td>\n",
              "      <td>236422.000000</td>\n",
              "      <td>NaN</td>\n",
              "      <td>817921.500000</td>\n",
              "      <td>822364.479413</td>\n",
              "      <td>1.015044e+06</td>\n",
              "      <td>2.455870e+06</td>\n",
              "      <td>124222.157895</td>\n",
              "      <td>318363.549917</td>\n",
              "      <td>817921.500000</td>\n",
              "      <td>822364.479413</td>\n",
              "    </tr>\n",
              "    <tr>\n",
              "      <th>4</th>\n",
              "      <td>광교1</td>\n",
              "      <td>구조물공사</td>\n",
              "      <td>식생옹벽블럭</td>\n",
              "      <td>341.0</td>\n",
              "      <td>171792.0</td>\n",
              "      <td>29126.0</td>\n",
              "      <td>14282.0</td>\n",
              "      <td>7.338320e+07</td>\n",
              "      <td>341.0</td>\n",
              "      <td>88150.0</td>\n",
              "      <td>14205.0</td>\n",
              "      <td>22416.0</td>\n",
              "      <td>4.254691e+07</td>\n",
              "      <td>1067184.0</td>\n",
              "      <td>604873.6</td>\n",
              "      <td>56.67941</td>\n",
              "      <td>9177.0</td>\n",
              "      <td>200710</td>\n",
              "      <td>201105</td>\n",
              "      <td>43.0</td>\n",
              "      <td>27.405354</td>\n",
              "      <td>22.553220</td>\n",
              "      <td>265</td>\n",
              "      <td>215200.0</td>\n",
              "      <td>124771.0</td>\n",
              "      <td>1</td>\n",
              "      <td>30559.428571</td>\n",
              "      <td>47851.742577</td>\n",
              "      <td>0.367005</td>\n",
              "      <td>0.5</td>\n",
              "      <td>17</td>\n",
              "      <td>672</td>\n",
              "      <td>9</td>\n",
              "      <td>2</td>\n",
              "      <td>311</td>\n",
              "      <td>338</td>\n",
              "      <td>504</td>\n",
              "      <td>3</td>\n",
              "      <td>204</td>\n",
              "      <td>1.936300e+06</td>\n",
              "      <td>1.235332e+07</td>\n",
              "      <td>124771.000000</td>\n",
              "      <td>NaN</td>\n",
              "      <td>586871.333333</td>\n",
              "      <td>705899.572921</td>\n",
              "      <td>905478.762774</td>\n",
              "      <td>2.400655e+06</td>\n",
              "      <td>124771.000000</td>\n",
              "      <td>NaN</td>\n",
              "      <td>124771.000000</td>\n",
              "      <td>NaN</td>\n",
              "      <td>1.247710e+05</td>\n",
              "      <td>NaN</td>\n",
              "      <td>124222.157895</td>\n",
              "      <td>318363.549917</td>\n",
              "      <td>124771.000000</td>\n",
              "      <td>NaN</td>\n",
              "    </tr>\n",
              "  </tbody>\n",
              "</table>\n",
              "</div>"
            ],
            "text/plain": [
              "    도시     공사 modified공종명  ...  공-수비clusterstd  도공-수비clustermean  도공-수비clusterstd\n",
              "0  광교1  구조물공사      강관파일기초  ...   318363.549917     817921.500000    822364.479413\n",
              "1  광교1  구조물공사     되메우기및다짐  ...     6149.926039       8410.142857      6149.926039\n",
              "2  광교1  구조물공사    뒷채움부설및다짐  ...     1160.361452       4952.800000      1160.361452\n",
              "3  광교1  구조물공사       보강토옹벽  ...   318363.549917     817921.500000    822364.479413\n",
              "4  광교1  구조물공사      식생옹벽블럭  ...   318363.549917     124771.000000              NaN\n",
              "\n",
              "[5 rows x 57 columns]"
            ]
          },
          "metadata": {
            "tags": []
          },
          "execution_count": 17
        }
      ]
    },
    {
      "cell_type": "code",
      "metadata": {
        "id": "jhq_IFC4SWtR"
      },
      "source": [
        "df_boosting=df[['도시', '공사', 'modified공종명', '설계수량', '공구별면적','주거면적', '주거면적(%)', '공구별세대수','기간(월)','이상치',\n",
        "                'hdb_clusters','hdb_mean', 'hdb_std',\n",
        "                '도-단cluster', '공-단cluster', '도공-단cluster', '도-단비cluster', '공-단비cluster','도공-단비cluster', '도-수비cluster', '공-수비cluster', '도공-수비cluster',\n",
        "                '도-단clustermean', '도-단clusterstd','공-단clustermean', '공-단clusterstd', '도공-단clustermean', '도공-단clusterstd','도-단비clustermean', '도-단비clusterstd', '공-단비clustermean','공-단비clusterstd', '도공-단비clustermean', '도공-단비clusterstd','도-수비clustermean', '도-수비clusterstd', '공-수비clustermean','공-수비clusterstd', '도공-수비clustermean', '도공-수비clusterstd',\n",
        "                '도급단가합계']]\n",
        "\n",
        "df_svr=df[['도시', '공사', 'modified공종명', '설계수량', '공구별면적','주거면적', '주거면적(%)', '공구별세대수','기간(월)','이상치',\n",
        "           'hdb_mean', 'hdb_std',\n",
        "           '도-단clustermean', '도-단clusterstd','공-단clustermean', '공-단clusterstd', '도공-단clustermean', '도공-단clusterstd','도-단비clustermean', '도-단비clusterstd', '공-단비clustermean','공-단비clusterstd', '도공-단비clustermean', '도공-단비clusterstd','도-수비clustermean', '도-수비clusterstd', '공-수비clustermean','공-수비clusterstd', '도공-수비clustermean', '도공-수비clusterstd',\n",
        "           '도급단가합계']]"
      ],
      "execution_count": null,
      "outputs": []
    },
    {
      "cell_type": "code",
      "metadata": {
        "id": "kKBPGS15zybZ"
      },
      "source": [
        "df_boosting.to_csv('/content/drive/My Drive/Colab Notebooks/data/빅청캠/df_boosting.csv',encoding='utf-8-sig',index=False)\n",
        "df_svr.to_csv('/content/drive/My Drive/Colab Notebooks/data/빅청캠/df_svr.csv',encoding='utf-8-sig',index=False)"
      ],
      "execution_count": null,
      "outputs": []
    }
  ]
}
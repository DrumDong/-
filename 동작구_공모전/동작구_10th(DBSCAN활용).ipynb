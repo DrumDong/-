{
  "nbformat": 4,
  "nbformat_minor": 0,
  "metadata": {
    "colab": {
      "name": "동작구_10th(DBSCAN활용).ipynb",
      "provenance": [],
      "machine_shape": "hm",
      "mount_file_id": "1w21lEq4Zh0mt0ioTzfA0-DXzbpaGEOUV",
      "authorship_tag": "ABX9TyN8nR/y68mWPD3Qvt40RhB3"
    },
    "kernelspec": {
      "name": "python3",
      "display_name": "Python 3"
    }
  },
  "cells": [
    {
      "cell_type": "code",
      "metadata": {
        "id": "_Vr8BjvCg5hX",
        "colab_type": "code",
        "outputId": "23701a50-146b-4f8d-b3f2-e90311da4f95",
        "colab": {
          "base_uri": "https://localhost:8080/",
          "height": 301
        }
      },
      "source": [
        "!pip install bayesian-optimization\n",
        "!pip install pyproj\n",
        "\n",
        "import pandas as pd\n",
        "import numpy as np\n",
        "import random\n",
        "from sklearn.linear_model import LinearRegression\n",
        "from sklearn.linear_model import Ridge,Lasso\n",
        "from sklearn.metrics import mean_squared_error,r2_score\n",
        "from sklearn.model_selection import cross_val_score\n",
        "from pyproj import Proj,transform\n",
        "import statsmodels.api as sm\n",
        "import statsmodels.formula.api as smf\n",
        "import matplotlib.pyplot as plt\n",
        "import seaborn as sns\n",
        "from sklearn.preprocessing import RobustScaler\n",
        "\n",
        "import pandas as pd\n",
        "import matplotlib.pyplot as plt\n",
        "import seaborn as sns\n",
        "from sklearn.model_selection import train_test_split\n",
        "from sklearn.ensemble import RandomForestClassifier\n",
        "from sklearn.metrics import roc_auc_score   # AUC 스코어 계산\n",
        "from sklearn.metrics import accuracy_score,log_loss,f1_score\n",
        "from sklearn.model_selection import KFold,StratifiedKFold   # K-fold CV    \n",
        "from sklearn.metrics import classification_report\n",
        "from bayes_opt import BayesianOptimization  # 베이지안 최적화 라이브러리  \n",
        "from functools import partial               # 함수 변수 고정\n",
        "import lightgbm as lgb                      # LightGBM 라이브러리\n",
        "import warnings       \n",
        "warnings.filterwarnings(\"ignore\")\n",
        "import numpy as np\n",
        "from imblearn.over_sampling import SMOTE\n",
        "\n",
        "from sklearn.datasets.samples_generator import make_blobs\n",
        "from sklearn.neighbors import NearestNeighbors\n",
        "from sklearn.cluster import DBSCAN\n",
        "from sklearn.preprocessing import StandardScaler,MinMaxScaler\n",
        "import math\n",
        "\n",
        "from sklearn.neighbors import DistanceMetric\n",
        "from sklearn.neighbors import NearestNeighbors"
      ],
      "execution_count": 1,
      "outputs": [
        {
          "output_type": "stream",
          "text": [
            "Collecting bayesian-optimization\n",
            "  Downloading https://files.pythonhosted.org/packages/b5/26/9842333adbb8f17bcb3d699400a8b1ccde0af0b6de8d07224e183728acdf/bayesian_optimization-1.1.0-py3-none-any.whl\n",
            "Requirement already satisfied: scipy>=0.14.0 in /usr/local/lib/python3.6/dist-packages (from bayesian-optimization) (1.4.1)\n",
            "Requirement already satisfied: scikit-learn>=0.18.0 in /usr/local/lib/python3.6/dist-packages (from bayesian-optimization) (0.22.2.post1)\n",
            "Requirement already satisfied: numpy>=1.9.0 in /usr/local/lib/python3.6/dist-packages (from bayesian-optimization) (1.18.3)\n",
            "Requirement already satisfied: joblib>=0.11 in /usr/local/lib/python3.6/dist-packages (from scikit-learn>=0.18.0->bayesian-optimization) (0.14.1)\n",
            "Installing collected packages: bayesian-optimization\n",
            "Successfully installed bayesian-optimization-1.1.0\n",
            "Collecting pyproj\n",
            "\u001b[?25l  Downloading https://files.pythonhosted.org/packages/ce/37/705ee471f71130d4ceee41bbcb06f3b52175cb89273cbb5755ed5e6374e0/pyproj-2.6.0-cp36-cp36m-manylinux2010_x86_64.whl (10.4MB)\n",
            "\u001b[K     |████████████████████████████████| 10.4MB 7.2MB/s \n",
            "\u001b[?25hInstalling collected packages: pyproj\n",
            "Successfully installed pyproj-2.6.0\n"
          ],
          "name": "stdout"
        },
        {
          "output_type": "stream",
          "text": [
            "/usr/local/lib/python3.6/dist-packages/statsmodels/tools/_testing.py:19: FutureWarning: pandas.util.testing is deprecated. Use the functions in the public API at pandas.testing instead.\n",
            "  import pandas.util.testing as tm\n"
          ],
          "name": "stderr"
        }
      ]
    },
    {
      "cell_type": "markdown",
      "metadata": {
        "id": "6Fmm-vgco1CO",
        "colab_type": "text"
      },
      "source": [
        "# Colab 한글 적용"
      ]
    },
    {
      "cell_type": "code",
      "metadata": {
        "id": "Pgw7qut8olzz",
        "colab_type": "code",
        "outputId": "696e99c7-2470-4c70-87b6-6d4907cbd107",
        "colab": {
          "base_uri": "https://localhost:8080/",
          "height": 210
        }
      },
      "source": [
        "import matplotlib as mpl\n",
        "import matplotlib.pyplot as plt\n",
        " \n",
        "%config InlineBackend.figure_format = 'retina'\n",
        " \n",
        "!apt -qq -y install fonts-nanum\n",
        " \n",
        "import matplotlib.font_manager as fm\n",
        "fontpath = '/usr/share/fonts/truetype/nanum/NanumBarunGothic.ttf'\n",
        "font = fm.FontProperties(fname=fontpath, size=9)\n",
        "plt.rc('font', family='NanumBarunGothic') \n",
        "mpl.font_manager._rebuild()"
      ],
      "execution_count": 2,
      "outputs": [
        {
          "output_type": "stream",
          "text": [
            "The following NEW packages will be installed:\n",
            "  fonts-nanum\n",
            "0 upgraded, 1 newly installed, 0 to remove and 25 not upgraded.\n",
            "Need to get 9,604 kB of archives.\n",
            "After this operation, 29.5 MB of additional disk space will be used.\n",
            "Selecting previously unselected package fonts-nanum.\n",
            "(Reading database ... 144568 files and directories currently installed.)\n",
            "Preparing to unpack .../fonts-nanum_20170925-1_all.deb ...\n",
            "Unpacking fonts-nanum (20170925-1) ...\n",
            "Setting up fonts-nanum (20170925-1) ...\n",
            "Processing triggers for fontconfig (2.12.6-0ubuntu2) ...\n"
          ],
          "name": "stdout"
        }
      ]
    },
    {
      "cell_type": "code",
      "metadata": {
        "id": "ls1F0uzbonv9",
        "colab_type": "code",
        "outputId": "0da201c1-1e62-400e-ef65-a2d9529d005e",
        "colab": {
          "base_uri": "https://localhost:8080/",
          "height": 337
        }
      },
      "source": [
        "plt.figure(figsize=(5,5))\n",
        "plt.plot([0,1], [0,1], label='한글테스트용')\n",
        "plt.legend()\n",
        "plt.show()"
      ],
      "execution_count": 3,
      "outputs": [
        {
          "output_type": "stream",
          "text": [
            "findfont: Font family ['NanumBarunGothic'] not found. Falling back to DejaVu Sans.\n"
          ],
          "name": "stderr"
        },
        {
          "output_type": "display_data",
          "data": {
            "image/png": "[encoded data removed]",
            "text/plain": [
              "<Figure size 360x360 with 1 Axes>"
            ]
          },
          "metadata": {
            "tags": [],
            "image/png": {
              "width": 316,
              "height": 302
            },
            "needs_background": "light"
          }
        }
      ]
    },
    {
      "cell_type": "markdown",
      "metadata": {
        "id": "aMa0BGVypQcV",
        "colab_type": "text"
      },
      "source": [
        "# Load Data\n",
        "- 직사각형 100만, Euclid: 150\n"
      ]
    },
    {
      "cell_type": "code",
      "metadata": {
        "id": "X7lnVjEspR77",
        "colab_type": "code",
        "colab": {}
      },
      "source": [
        "data = pd.read_csv('/content/drive/My Drive/Colab Notebooks/data/공모전/동작구_공모전/sell_십만_150.csv',encoding='cp949')\n",
        "data.drop(['Unnamed: 0','Unnamed: 0.1'],axis=1,inplace=True)"
      ],
      "execution_count": 0,
      "outputs": []
    },
    {
      "cell_type": "code",
      "metadata": {
        "id": "JDJ0v-wzqPqY",
        "colab_type": "code",
        "colab": {}
      },
      "source": [
        "# 파생변수 제작\n",
        "data['old/building'] = data['old_place']/data['building']\n",
        "data['child/building'] = data['child_place']/data['building']"
      ],
      "execution_count": 0,
      "outputs": []
    },
    {
      "cell_type": "code",
      "metadata": {
        "id": "Bh_jgFdMrTkO",
        "colab_type": "code",
        "outputId": "d228eb67-8518-491e-9b19-c1f82b3310b1",
        "colab": {
          "base_uri": "https://localhost:8080/",
          "height": 246
        }
      },
      "source": [
        "data.head()"
      ],
      "execution_count": 6,
      "outputs": [
        {
          "output_type": "execute_result",
          "data": {
            "text/html": [
              "<div>\n",
              "<style scoped>\n",
              "    .dataframe tbody tr th:only-of-type {\n",
              "        vertical-align: middle;\n",
              "    }\n",
              "\n",
              "    .dataframe tbody tr th {\n",
              "        vertical-align: top;\n",
              "    }\n",
              "\n",
              "    .dataframe thead th {\n",
              "        text-align: right;\n",
              "    }\n",
              "</style>\n",
              "<table border=\"1\" class=\"dataframe\">\n",
              "  <thead>\n",
              "    <tr style=\"text-align: right;\">\n",
              "      <th></th>\n",
              "      <th>x</th>\n",
              "      <th>y</th>\n",
              "      <th>소로</th>\n",
              "      <th>중로2류</th>\n",
              "      <th>소로1류</th>\n",
              "      <th>소로3류</th>\n",
              "      <th>중로3류</th>\n",
              "      <th>소로2류</th>\n",
              "      <th>중로1류</th>\n",
              "      <th>광로2류</th>\n",
              "      <th>old_place</th>\n",
              "      <th>child_place</th>\n",
              "      <th>crosswork</th>\n",
              "      <th>building</th>\n",
              "      <th>bus</th>\n",
              "      <th>bohang</th>\n",
              "      <th>accident</th>\n",
              "      <th>old_acc</th>\n",
              "      <th>old/building</th>\n",
              "      <th>child/building</th>\n",
              "    </tr>\n",
              "  </thead>\n",
              "  <tbody>\n",
              "    <tr>\n",
              "      <th>0</th>\n",
              "      <td>195600.888993</td>\n",
              "      <td>545928.299315</td>\n",
              "      <td>6</td>\n",
              "      <td>0</td>\n",
              "      <td>0</td>\n",
              "      <td>1</td>\n",
              "      <td>0</td>\n",
              "      <td>0</td>\n",
              "      <td>0</td>\n",
              "      <td>0</td>\n",
              "      <td>0.0</td>\n",
              "      <td>1.0</td>\n",
              "      <td>5.0</td>\n",
              "      <td>93.0</td>\n",
              "      <td>45.0</td>\n",
              "      <td>0.0</td>\n",
              "      <td>0.0</td>\n",
              "      <td>0.0</td>\n",
              "      <td>0.000000</td>\n",
              "      <td>0.010753</td>\n",
              "    </tr>\n",
              "    <tr>\n",
              "      <th>1</th>\n",
              "      <td>194062.308207</td>\n",
              "      <td>544725.091085</td>\n",
              "      <td>19</td>\n",
              "      <td>0</td>\n",
              "      <td>0</td>\n",
              "      <td>1</td>\n",
              "      <td>0</td>\n",
              "      <td>0</td>\n",
              "      <td>0</td>\n",
              "      <td>0</td>\n",
              "      <td>1.0</td>\n",
              "      <td>3.0</td>\n",
              "      <td>4.0</td>\n",
              "      <td>219.0</td>\n",
              "      <td>2.0</td>\n",
              "      <td>0.0</td>\n",
              "      <td>2.0</td>\n",
              "      <td>1.0</td>\n",
              "      <td>0.004566</td>\n",
              "      <td>0.013699</td>\n",
              "    </tr>\n",
              "    <tr>\n",
              "      <th>2</th>\n",
              "      <td>197377.867009</td>\n",
              "      <td>543986.683138</td>\n",
              "      <td>0</td>\n",
              "      <td>0</td>\n",
              "      <td>0</td>\n",
              "      <td>0</td>\n",
              "      <td>0</td>\n",
              "      <td>0</td>\n",
              "      <td>0</td>\n",
              "      <td>0</td>\n",
              "      <td>0.0</td>\n",
              "      <td>0.0</td>\n",
              "      <td>0.0</td>\n",
              "      <td>2.0</td>\n",
              "      <td>0.0</td>\n",
              "      <td>0.0</td>\n",
              "      <td>0.0</td>\n",
              "      <td>0.0</td>\n",
              "      <td>0.000000</td>\n",
              "      <td>0.000000</td>\n",
              "    </tr>\n",
              "    <tr>\n",
              "      <th>3</th>\n",
              "      <td>193058.182323</td>\n",
              "      <td>543489.087262</td>\n",
              "      <td>0</td>\n",
              "      <td>0</td>\n",
              "      <td>0</td>\n",
              "      <td>0</td>\n",
              "      <td>0</td>\n",
              "      <td>0</td>\n",
              "      <td>0</td>\n",
              "      <td>0</td>\n",
              "      <td>0.0</td>\n",
              "      <td>1.0</td>\n",
              "      <td>1.0</td>\n",
              "      <td>14.0</td>\n",
              "      <td>0.0</td>\n",
              "      <td>0.0</td>\n",
              "      <td>0.0</td>\n",
              "      <td>0.0</td>\n",
              "      <td>0.000000</td>\n",
              "      <td>0.071429</td>\n",
              "    </tr>\n",
              "    <tr>\n",
              "      <th>4</th>\n",
              "      <td>197347.383013</td>\n",
              "      <td>542701.828076</td>\n",
              "      <td>23</td>\n",
              "      <td>0</td>\n",
              "      <td>0</td>\n",
              "      <td>3</td>\n",
              "      <td>0</td>\n",
              "      <td>0</td>\n",
              "      <td>0</td>\n",
              "      <td>0</td>\n",
              "      <td>4.0</td>\n",
              "      <td>2.0</td>\n",
              "      <td>3.0</td>\n",
              "      <td>258.0</td>\n",
              "      <td>4.0</td>\n",
              "      <td>0.0</td>\n",
              "      <td>1.0</td>\n",
              "      <td>1.0</td>\n",
              "      <td>0.015504</td>\n",
              "      <td>0.007752</td>\n",
              "    </tr>\n",
              "  </tbody>\n",
              "</table>\n",
              "</div>"
            ],
            "text/plain": [
              "               x              y  소로  ...  old_acc  old/building  child/building\n",
              "0  195600.888993  545928.299315   6  ...      0.0      0.000000        0.010753\n",
              "1  194062.308207  544725.091085  19  ...      1.0      0.004566        0.013699\n",
              "2  197377.867009  543986.683138   0  ...      0.0      0.000000        0.000000\n",
              "3  193058.182323  543489.087262   0  ...      0.0      0.000000        0.071429\n",
              "4  197347.383013  542701.828076  23  ...      1.0      0.015504        0.007752\n",
              "\n",
              "[5 rows x 20 columns]"
            ]
          },
          "metadata": {
            "tags": []
          },
          "execution_count": 6
        }
      ]
    },
    {
      "cell_type": "code",
      "metadata": {
        "id": "nOo8JCv7yu-s",
        "colab_type": "code",
        "colab": {}
      },
      "source": [
        "# 이진분류\n",
        "data.loc[data['old_acc']==0,'binary_accident']=0\n",
        "data.loc[data['old_acc']!=0,'binary_accident']=1"
      ],
      "execution_count": 0,
      "outputs": []
    },
    {
      "cell_type": "markdown",
      "metadata": {
        "id": "2UkXcB9To4MT",
        "colab_type": "text"
      },
      "source": [
        "# K-Distance 구하기\n",
        "- 소로, old/building, crosswork, bus\n",
        "- DBSCAN의 최적의 eps를 구하기 위해서는 Knn의 Distance를 구해야한다.\n",
        "\n",
        "즉, KnnClassification 분류모델을 활용하여 최적의 NearestNeighbors의 하이퍼 파라미터들(n_neighbors,leaf_size,p 등)을 찾음. 그 후, NearestNeighbors 모델을 활용해 Distance의 분포를 확인 한 뒤, DBSCAN의 적정 eps를 찾으면 끝"
      ]
    },
    {
      "cell_type": "markdown",
      "metadata": {
        "id": "WW7whTo70v18",
        "colab_type": "text"
      },
      "source": [
        "베이지안 최적화 방법을 통해 최적의 n_neighbors를 구한다."
      ]
    },
    {
      "cell_type": "code",
      "metadata": {
        "id": "Dxbj9jJI3dwv",
        "colab_type": "code",
        "colab": {}
      },
      "source": [
        "robust_scaler = RobustScaler()\n",
        "\n",
        "x=data[['old/building','bus','소로','crosswork']]\n",
        "x.replace([np.inf, -np.inf], 0, inplace=True)\n",
        "x.fillna(0,inplace=True)\n",
        "scaled_X=robust_scaler.fit_transform(x)"
      ],
      "execution_count": 0,
      "outputs": []
    },
    {
      "cell_type": "code",
      "metadata": {
        "id": "rrs7B84Y0KbR",
        "colab_type": "code",
        "colab": {}
      },
      "source": [
        "X_train = pd.DataFrame(scaled_X,columns=x.columns)\n",
        "y_train = data['binary_accident']"
      ],
      "execution_count": 0,
      "outputs": []
    },
    {
      "cell_type": "code",
      "metadata": {
        "id": "aTgG8vgpxl0E",
        "colab_type": "code",
        "colab": {}
      },
      "source": [
        "from sklearn.neighbors import KNeighborsClassifier\n",
        "\n",
        "def knn_cv(n_neighbors,leaf_size,p, x_data=None, y_data=None, n_splits=5, output='score'):\n",
        "    score = 0\n",
        "    #kf = KFold(n_splits=n_splits)\n",
        "    skf = StratifiedKFold(n_splits=n_splits, shuffle=True, random_state=201)\n",
        "    models = []\n",
        "    sm = SMOTE(ratio='auto', kind='regular')\n",
        "    for train_index, valid_index in skf.split(x_data,y_data):\n",
        "        #print(train_index)\n",
        "        x_train, y_train = x_data.iloc[train_index], y_data.iloc[train_index]\n",
        "       \n",
        "        #Smote\n",
        "        sm = SMOTE(ratio='auto', kind='regular')\n",
        "        # train데이터를 넣어 복제함\n",
        "        X_resampled, y_resampled = sm.fit_sample(x_train,y_train)\n",
        "        x_valid, y_valid = x_data.iloc[valid_index], y_data.iloc[valid_index]\n",
        "\n",
        "        model = KNeighborsClassifier(\n",
        "            n_neighbors = int(n_neighbors),\n",
        "            leaf_size = int(leaf_size),\n",
        "            p = int(p),\n",
        "            n_jobs=-1,\n",
        "            metric= 'euclidean',\n",
        "            #'mahalanobis',#'seuclidean',#'chebyshev',#'manhattan',#'euclidean', #'minkowski', \n",
        "\n",
        "        )\n",
        "        \n",
        "        model.fit(x_train, y_train)\n",
        "        models.append(model)\n",
        "        \n",
        "        pred = model.predict_proba(x_valid)[:, 1]\n",
        "        true = y_valid\n",
        "        score += roc_auc_score(true, pred)/n_splits\n",
        "    \n",
        "    if output == 'score':\n",
        "        return score\n",
        "    if output == 'model':\n",
        "        return models"
      ],
      "execution_count": 0,
      "outputs": []
    },
    {
      "cell_type": "code",
      "metadata": {
        "id": "Hh7Vl3yuxtqZ",
        "colab_type": "code",
        "outputId": "f34f2592-86bd-4828-e422-043eef6d4f0c",
        "colab": {
          "base_uri": "https://localhost:8080/",
          "height": 422
        }
      },
      "source": [
        "# 모델과 관련없는 변수 고정\n",
        "func_fixed = partial(knn_cv, x_data=X_train, y_data=y_train, n_splits=5, output='score') \n",
        "# 베이지안 최적화 범위 설정\n",
        "knnBO = BayesianOptimization(\n",
        "    func_fixed, \n",
        "    {\n",
        "        'n_neighbors':(1,10000),\n",
        "        'leaf_size':(1,10000),\n",
        "        'p':(1,3),\n",
        "    }, \n",
        "    random_state=4321                    # 시드 고정\n",
        ")\n",
        "knnBO.maximize(init_points=5, n_iter=15) # 처음 5회 랜덤 값으로 score 계산 후 30회 최적화"
      ],
      "execution_count": 11,
      "outputs": [
        {
          "output_type": "stream",
          "text": [
            "|   iter    |  target   | leaf_size | n_neig... |     p     |\n",
            "-------------------------------------------------------------\n",
            "| \u001b[0m 1       \u001b[0m | \u001b[0m 0.8355  \u001b[0m | \u001b[0m 709.0   \u001b[0m | \u001b[0m 8.151e+0\u001b[0m | \u001b[0m 2.536   \u001b[0m |\n",
            "| \u001b[95m 2       \u001b[0m | \u001b[95m 0.859   \u001b[0m | \u001b[95m 2.864e+0\u001b[0m | \u001b[95m 1.932e+0\u001b[0m | \u001b[95m 2.958   \u001b[0m |\n",
            "| \u001b[0m 3       \u001b[0m | \u001b[0m 0.837   \u001b[0m | \u001b[0m 4.063e+0\u001b[0m | \u001b[0m 7.578e+0\u001b[0m | \u001b[0m 1.178   \u001b[0m |\n",
            "| \u001b[0m 4       \u001b[0m | \u001b[0m 0.8401  \u001b[0m | \u001b[0m 3.1e+03 \u001b[0m | \u001b[0m 6.19e+03\u001b[0m | \u001b[0m 1.92    \u001b[0m |\n",
            "| \u001b[0m 5       \u001b[0m | \u001b[0m 0.8391  \u001b[0m | \u001b[0m 2.184e+0\u001b[0m | \u001b[0m 6.636e+0\u001b[0m | \u001b[0m 2.357   \u001b[0m |\n",
            "| \u001b[95m 6       \u001b[0m | \u001b[95m 0.9425  \u001b[0m | \u001b[95m 9.957e+0\u001b[0m | \u001b[95m 15.03   \u001b[0m | \u001b[95m 1.996   \u001b[0m |\n",
            "| \u001b[0m 7       \u001b[0m | \u001b[0m 0.938   \u001b[0m | \u001b[0m 9.908e+0\u001b[0m | \u001b[0m 10.9    \u001b[0m | \u001b[0m 1.909   \u001b[0m |\n",
            "| \u001b[0m 8       \u001b[0m | \u001b[0m 0.9208  \u001b[0m | \u001b[0m 9.993e+0\u001b[0m | \u001b[0m 124.5   \u001b[0m | \u001b[0m 2.329   \u001b[0m |\n",
            "| \u001b[0m 9       \u001b[0m | \u001b[0m 0.8302  \u001b[0m | \u001b[0m 9.887e+0\u001b[0m | \u001b[0m 9.951e+0\u001b[0m | \u001b[0m 2.209   \u001b[0m |\n",
            "| \u001b[0m 10      \u001b[0m | \u001b[0m 0.9319  \u001b[0m | \u001b[0m 141.3   \u001b[0m | \u001b[0m 66.62   \u001b[0m | \u001b[0m 2.154   \u001b[0m |\n",
            "| \u001b[0m 11      \u001b[0m | \u001b[0m 0.9371  \u001b[0m | \u001b[0m 9.958e+0\u001b[0m | \u001b[0m 9.712   \u001b[0m | \u001b[0m 1.785   \u001b[0m |\n",
            "| \u001b[0m 12      \u001b[0m | \u001b[0m 0.8376  \u001b[0m | \u001b[0m 653.3   \u001b[0m | \u001b[0m 7.334e+0\u001b[0m | \u001b[0m 1.631   \u001b[0m |\n",
            "| \u001b[0m 13      \u001b[0m | \u001b[0m 0.8358  \u001b[0m | \u001b[0m 4.892e+0\u001b[0m | \u001b[0m 1.434   \u001b[0m | \u001b[0m 2.043   \u001b[0m |\n",
            "| \u001b[0m 14      \u001b[0m | \u001b[0m 0.8757  \u001b[0m | \u001b[0m 403.5   \u001b[0m | \u001b[0m 905.1   \u001b[0m | \u001b[0m 1.192   \u001b[0m |\n",
            "| \u001b[0m 15      \u001b[0m | \u001b[0m 0.83    \u001b[0m | \u001b[0m 6.138e+0\u001b[0m | \u001b[0m 9.99e+03\u001b[0m | \u001b[0m 1.263   \u001b[0m |\n",
            "| \u001b[0m 16      \u001b[0m | \u001b[0m 0.8436  \u001b[0m | \u001b[0m 9.402e+0\u001b[0m | \u001b[0m 4.673e+0\u001b[0m | \u001b[0m 2.814   \u001b[0m |\n",
            "| \u001b[0m 17      \u001b[0m | \u001b[0m 0.8372  \u001b[0m | \u001b[0m 8.303e+0\u001b[0m | \u001b[0m 7.48e+03\u001b[0m | \u001b[0m 2.974   \u001b[0m |\n",
            "| \u001b[95m 18      \u001b[0m | \u001b[95m 0.9428  \u001b[0m | \u001b[95m 2.022e+0\u001b[0m | \u001b[95m 27.21   \u001b[0m | \u001b[95m 2.658   \u001b[0m |\n",
            "| \u001b[0m 19      \u001b[0m | \u001b[0m 0.8391  \u001b[0m | \u001b[0m 9.98e+03\u001b[0m | \u001b[0m 6.654e+0\u001b[0m | \u001b[0m 1.673   \u001b[0m |\n",
            "| \u001b[0m 20      \u001b[0m | \u001b[0m 0.8304  \u001b[0m | \u001b[0m 48.93   \u001b[0m | \u001b[0m 9.887e+0\u001b[0m | \u001b[0m 1.483   \u001b[0m |\n",
            "=============================================================\n"
          ],
          "name": "stdout"
        }
      ]
    },
    {
      "cell_type": "code",
      "metadata": {
        "id": "FouefQhX8Bqg",
        "colab_type": "code",
        "colab": {}
      },
      "source": [
        "params = knnBO.max['params']"
      ],
      "execution_count": 0,
      "outputs": []
    },
    {
      "cell_type": "markdown",
      "metadata": {
        "id": "gxdeFGgN8NTZ",
        "colab_type": "text"
      },
      "source": [
        "KnnClassifier를 통해 나온 파라미터 값을 활용해 K-distance를 구하자."
      ]
    },
    {
      "cell_type": "code",
      "metadata": {
        "id": "g6MS3SHVIDGX",
        "colab_type": "code",
        "outputId": "5d7bdc9b-e777-4985-cfa1-35eb061806cc",
        "colab": {
          "base_uri": "https://localhost:8080/",
          "height": 70
        }
      },
      "source": [
        "params"
      ],
      "execution_count": 13,
      "outputs": [
        {
          "output_type": "execute_result",
          "data": {
            "text/plain": [
              "{'leaf_size': 2022.276128960539,\n",
              " 'n_neighbors': 27.206634076991467,\n",
              " 'p': 2.657593539409011}"
            ]
          },
          "metadata": {
            "tags": []
          },
          "execution_count": 13
        }
      ]
    },
    {
      "cell_type": "code",
      "metadata": {
        "id": "_EwKluJw8V7O",
        "colab_type": "code",
        "colab": {}
      },
      "source": [
        "neigh = NearestNeighbors(\n",
        "    n_neighbors = int(params['n_neighbors']),\n",
        "    leaf_size = int(params['leaf_size']),\n",
        "    p = int(params['p']),\n",
        ")\n",
        "\n",
        "nbrs = neigh.fit(X_train)\n",
        "distances, indices = nbrs.kneighbors(X_train)"
      ],
      "execution_count": 0,
      "outputs": []
    },
    {
      "cell_type": "markdown",
      "metadata": {
        "id": "EjCjva4GABkh",
        "colab_type": "text"
      },
      "source": [
        "distances를 활용하여 DBSCAN의 eps를 찾는 방법\n",
        "1. take the last column of that matrix\n",
        "2. sort descending\n",
        "3. plot index, distance\n",
        "4. hope to see a knee (if the distance does not work well, there might be none)"
      ]
    },
    {
      "cell_type": "code",
      "metadata": {
        "id": "BJiil6e_IaX7",
        "colab_type": "code",
        "outputId": "791fa62b-c664-4a3c-cad1-eee1b81465c0",
        "colab": {
          "base_uri": "https://localhost:8080/",
          "height": 282
        }
      },
      "source": [
        "plt.plot(np.sort(distances[:,-1][47500:]))"
      ],
      "execution_count": 15,
      "outputs": [
        {
          "output_type": "execute_result",
          "data": {
            "text/plain": [
              "[<matplotlib.lines.Line2D at 0x7f7ad24248d0>]"
            ]
          },
          "metadata": {
            "tags": []
          },
          "execution_count": 15
        },
        {
          "output_type": "display_data",
          "data": {
            "image/png": "[encoded data removed]",
            "text/plain": [
              "<Figure size 432x288 with 1 Axes>"
            ]
          },
          "metadata": {
            "tags": [],
            "image/png": {
              "width": 372,
              "height": 248
            },
            "needs_background": "light"
          }
        }
      ]
    },
    {
      "cell_type": "markdown",
      "metadata": {
        "id": "L0YmXzpqK1P6",
        "colab_type": "text"
      },
      "source": [
        "eps: 0.4~0.5 로 하면 괜찮을 것 같음. (값이 기하급수적으로 튀는 부분을 eps로 설정하는 것)"
      ]
    },
    {
      "cell_type": "markdown",
      "metadata": {
        "id": "5PcUgqO4LDkD",
        "colab_type": "text"
      },
      "source": [
        "-참고- \n",
        "- https://towardsdatascience.com/machine-learning-clustering-dbscan-determine-the-optimal-value-for-epsilon-eps-python-example-3100091cfbc\n",
        "\n",
        "- https://stackoverflow.com/questions/43160240/how-to-plot-a-k-distance-graph-in-python\n",
        "\n"
      ]
    },
    {
      "cell_type": "markdown",
      "metadata": {
        "id": "sCKQhty0K3jK",
        "colab_type": "text"
      },
      "source": [
        "# DBSCAN application"
      ]
    },
    {
      "cell_type": "code",
      "metadata": {
        "id": "V4nO4SoKK_SW",
        "colab_type": "code",
        "outputId": "5c9f8347-097c-4791-d192-0387b6cd3986",
        "colab": {
          "base_uri": "https://localhost:8080/",
          "height": 195
        }
      },
      "source": [
        "# DBSCAN 적용할 데이터\n",
        "X_train.head()"
      ],
      "execution_count": 16,
      "outputs": [
        {
          "output_type": "execute_result",
          "data": {
            "text/html": [
              "<div>\n",
              "<style scoped>\n",
              "    .dataframe tbody tr th:only-of-type {\n",
              "        vertical-align: middle;\n",
              "    }\n",
              "\n",
              "    .dataframe tbody tr th {\n",
              "        vertical-align: top;\n",
              "    }\n",
              "\n",
              "    .dataframe thead th {\n",
              "        text-align: right;\n",
              "    }\n",
              "</style>\n",
              "<table border=\"1\" class=\"dataframe\">\n",
              "  <thead>\n",
              "    <tr style=\"text-align: right;\">\n",
              "      <th></th>\n",
              "      <th>old/building</th>\n",
              "      <th>bus</th>\n",
              "      <th>소로</th>\n",
              "      <th>crosswork</th>\n",
              "    </tr>\n",
              "  </thead>\n",
              "  <tbody>\n",
              "    <tr>\n",
              "      <th>0</th>\n",
              "      <td>0.000000</td>\n",
              "      <td>5.375</td>\n",
              "      <td>0.066667</td>\n",
              "      <td>0.428571</td>\n",
              "    </tr>\n",
              "    <tr>\n",
              "      <th>1</th>\n",
              "      <td>0.447489</td>\n",
              "      <td>0.000</td>\n",
              "      <td>0.933333</td>\n",
              "      <td>0.285714</td>\n",
              "    </tr>\n",
              "    <tr>\n",
              "      <th>2</th>\n",
              "      <td>0.000000</td>\n",
              "      <td>-0.250</td>\n",
              "      <td>-0.333333</td>\n",
              "      <td>-0.285714</td>\n",
              "    </tr>\n",
              "    <tr>\n",
              "      <th>3</th>\n",
              "      <td>0.000000</td>\n",
              "      <td>-0.250</td>\n",
              "      <td>-0.333333</td>\n",
              "      <td>-0.142857</td>\n",
              "    </tr>\n",
              "    <tr>\n",
              "      <th>4</th>\n",
              "      <td>1.519380</td>\n",
              "      <td>0.250</td>\n",
              "      <td>1.200000</td>\n",
              "      <td>0.142857</td>\n",
              "    </tr>\n",
              "  </tbody>\n",
              "</table>\n",
              "</div>"
            ],
            "text/plain": [
              "   old/building    bus        소로  crosswork\n",
              "0      0.000000  5.375  0.066667   0.428571\n",
              "1      0.447489  0.000  0.933333   0.285714\n",
              "2      0.000000 -0.250 -0.333333  -0.285714\n",
              "3      0.000000 -0.250 -0.333333  -0.142857\n",
              "4      1.519380  0.250  1.200000   0.142857"
            ]
          },
          "metadata": {
            "tags": []
          },
          "execution_count": 16
        }
      ]
    },
    {
      "cell_type": "code",
      "metadata": {
        "id": "92Kb2FJzLmS-",
        "colab_type": "code",
        "outputId": "89333784-cccb-4dc0-8325-dfd9f4410bc7",
        "colab": {
          "base_uri": "https://localhost:8080/",
          "height": 52
        }
      },
      "source": [
        "scan_model = DBSCAN(eps=0.45,min_samples= int(params['n_neighbors'])+1)\n",
        "                                          # If you don't want the MinPts value to be 4, you can decide the MinPts = k+1.\n",
        "clusters=scan_model.fit_predict(X_train)\n",
        "print('클러스터 레이블:\\n',clusters)"
      ],
      "execution_count": 17,
      "outputs": [
        {
          "output_type": "stream",
          "text": [
            "클러스터 레이블:\n",
            " [0 0 0 ... 0 0 0]\n"
          ],
          "name": "stdout"
        }
      ]
    },
    {
      "cell_type": "code",
      "metadata": {
        "id": "MYV5oX6GL09e",
        "colab_type": "code",
        "outputId": "b454ac63-3d15-4ae1-d793-b866c687e84e",
        "colab": {
          "base_uri": "https://localhost:8080/",
          "height": 158
        }
      },
      "source": [
        "pd.Series(clusters).value_counts()"
      ],
      "execution_count": 18,
      "outputs": [
        {
          "output_type": "execute_result",
          "data": {
            "text/plain": [
              " 0    46779\n",
              "-1     1262\n",
              " 3       88\n",
              " 1       64\n",
              " 4       49\n",
              " 2       42\n",
              " 5       28\n",
              "dtype: int64"
            ]
          },
          "metadata": {
            "tags": []
          },
          "execution_count": 18
        }
      ]
    },
    {
      "cell_type": "code",
      "metadata": {
        "id": "xSkdxK7JPGd5",
        "colab_type": "code",
        "outputId": "e47cf432-9367-4e7e-9506-bb262c495acd",
        "colab": {
          "base_uri": "https://localhost:8080/",
          "height": 266
        }
      },
      "source": [
        "data['clusters'] = clusters\n",
        "data.head()"
      ],
      "execution_count": 19,
      "outputs": [
        {
          "output_type": "execute_result",
          "data": {
            "text/html": [
              "<div>\n",
              "<style scoped>\n",
              "    .dataframe tbody tr th:only-of-type {\n",
              "        vertical-align: middle;\n",
              "    }\n",
              "\n",
              "    .dataframe tbody tr th {\n",
              "        vertical-align: top;\n",
              "    }\n",
              "\n",
              "    .dataframe thead th {\n",
              "        text-align: right;\n",
              "    }\n",
              "</style>\n",
              "<table border=\"1\" class=\"dataframe\">\n",
              "  <thead>\n",
              "    <tr style=\"text-align: right;\">\n",
              "      <th></th>\n",
              "      <th>x</th>\n",
              "      <th>y</th>\n",
              "      <th>소로</th>\n",
              "      <th>중로2류</th>\n",
              "      <th>소로1류</th>\n",
              "      <th>소로3류</th>\n",
              "      <th>중로3류</th>\n",
              "      <th>소로2류</th>\n",
              "      <th>중로1류</th>\n",
              "      <th>광로2류</th>\n",
              "      <th>old_place</th>\n",
              "      <th>child_place</th>\n",
              "      <th>crosswork</th>\n",
              "      <th>building</th>\n",
              "      <th>bus</th>\n",
              "      <th>bohang</th>\n",
              "      <th>accident</th>\n",
              "      <th>old_acc</th>\n",
              "      <th>old/building</th>\n",
              "      <th>child/building</th>\n",
              "      <th>binary_accident</th>\n",
              "      <th>clusters</th>\n",
              "    </tr>\n",
              "  </thead>\n",
              "  <tbody>\n",
              "    <tr>\n",
              "      <th>0</th>\n",
              "      <td>195600.888993</td>\n",
              "      <td>545928.299315</td>\n",
              "      <td>6</td>\n",
              "      <td>0</td>\n",
              "      <td>0</td>\n",
              "      <td>1</td>\n",
              "      <td>0</td>\n",
              "      <td>0</td>\n",
              "      <td>0</td>\n",
              "      <td>0</td>\n",
              "      <td>0.0</td>\n",
              "      <td>1.0</td>\n",
              "      <td>5.0</td>\n",
              "      <td>93.0</td>\n",
              "      <td>45.0</td>\n",
              "      <td>0.0</td>\n",
              "      <td>0.0</td>\n",
              "      <td>0.0</td>\n",
              "      <td>0.000000</td>\n",
              "      <td>0.010753</td>\n",
              "      <td>0.0</td>\n",
              "      <td>0</td>\n",
              "    </tr>\n",
              "    <tr>\n",
              "      <th>1</th>\n",
              "      <td>194062.308207</td>\n",
              "      <td>544725.091085</td>\n",
              "      <td>19</td>\n",
              "      <td>0</td>\n",
              "      <td>0</td>\n",
              "      <td>1</td>\n",
              "      <td>0</td>\n",
              "      <td>0</td>\n",
              "      <td>0</td>\n",
              "      <td>0</td>\n",
              "      <td>1.0</td>\n",
              "      <td>3.0</td>\n",
              "      <td>4.0</td>\n",
              "      <td>219.0</td>\n",
              "      <td>2.0</td>\n",
              "      <td>0.0</td>\n",
              "      <td>2.0</td>\n",
              "      <td>1.0</td>\n",
              "      <td>0.004566</td>\n",
              "      <td>0.013699</td>\n",
              "      <td>1.0</td>\n",
              "      <td>0</td>\n",
              "    </tr>\n",
              "    <tr>\n",
              "      <th>2</th>\n",
              "      <td>197377.867009</td>\n",
              "      <td>543986.683138</td>\n",
              "      <td>0</td>\n",
              "      <td>0</td>\n",
              "      <td>0</td>\n",
              "      <td>0</td>\n",
              "      <td>0</td>\n",
              "      <td>0</td>\n",
              "      <td>0</td>\n",
              "      <td>0</td>\n",
              "      <td>0.0</td>\n",
              "      <td>0.0</td>\n",
              "      <td>0.0</td>\n",
              "      <td>2.0</td>\n",
              "      <td>0.0</td>\n",
              "      <td>0.0</td>\n",
              "      <td>0.0</td>\n",
              "      <td>0.0</td>\n",
              "      <td>0.000000</td>\n",
              "      <td>0.000000</td>\n",
              "      <td>0.0</td>\n",
              "      <td>0</td>\n",
              "    </tr>\n",
              "    <tr>\n",
              "      <th>3</th>\n",
              "      <td>193058.182323</td>\n",
              "      <td>543489.087262</td>\n",
              "      <td>0</td>\n",
              "      <td>0</td>\n",
              "      <td>0</td>\n",
              "      <td>0</td>\n",
              "      <td>0</td>\n",
              "      <td>0</td>\n",
              "      <td>0</td>\n",
              "      <td>0</td>\n",
              "      <td>0.0</td>\n",
              "      <td>1.0</td>\n",
              "      <td>1.0</td>\n",
              "      <td>14.0</td>\n",
              "      <td>0.0</td>\n",
              "      <td>0.0</td>\n",
              "      <td>0.0</td>\n",
              "      <td>0.0</td>\n",
              "      <td>0.000000</td>\n",
              "      <td>0.071429</td>\n",
              "      <td>0.0</td>\n",
              "      <td>0</td>\n",
              "    </tr>\n",
              "    <tr>\n",
              "      <th>4</th>\n",
              "      <td>197347.383013</td>\n",
              "      <td>542701.828076</td>\n",
              "      <td>23</td>\n",
              "      <td>0</td>\n",
              "      <td>0</td>\n",
              "      <td>3</td>\n",
              "      <td>0</td>\n",
              "      <td>0</td>\n",
              "      <td>0</td>\n",
              "      <td>0</td>\n",
              "      <td>4.0</td>\n",
              "      <td>2.0</td>\n",
              "      <td>3.0</td>\n",
              "      <td>258.0</td>\n",
              "      <td>4.0</td>\n",
              "      <td>0.0</td>\n",
              "      <td>1.0</td>\n",
              "      <td>1.0</td>\n",
              "      <td>0.015504</td>\n",
              "      <td>0.007752</td>\n",
              "      <td>1.0</td>\n",
              "      <td>0</td>\n",
              "    </tr>\n",
              "  </tbody>\n",
              "</table>\n",
              "</div>"
            ],
            "text/plain": [
              "               x              y  소로  ...  child/building  binary_accident  clusters\n",
              "0  195600.888993  545928.299315   6  ...        0.010753              0.0         0\n",
              "1  194062.308207  544725.091085  19  ...        0.013699              1.0         0\n",
              "2  197377.867009  543986.683138   0  ...        0.000000              0.0         0\n",
              "3  193058.182323  543489.087262   0  ...        0.071429              0.0         0\n",
              "4  197347.383013  542701.828076  23  ...        0.007752              1.0         0\n",
              "\n",
              "[5 rows x 22 columns]"
            ]
          },
          "metadata": {
            "tags": []
          },
          "execution_count": 19
        }
      ]
    },
    {
      "cell_type": "code",
      "metadata": {
        "id": "R0LKw_k_QHCO",
        "colab_type": "code",
        "colab": {}
      },
      "source": [
        "data.to_csv('/content/drive/My Drive/Colab Notebooks/data/공모전/동작구_공모전/clusters_completed.csv')"
      ],
      "execution_count": 0,
      "outputs": []
    },
    {
      "cell_type": "markdown",
      "metadata": {
        "id": "wj9qNQJpRIz2",
        "colab_type": "text"
      },
      "source": [
        "---"
      ]
    },
    {
      "cell_type": "markdown",
      "metadata": {
        "id": "EM4X9EOJQJbC",
        "colab_type": "text"
      },
      "source": [
        "# NEXT\n",
        "- Cluster별로 변수의 가중치를 곱해 계산한 값을 변수로 다시 만들기. 어떤 클러스터가 중요한지 파악\n",
        "- DBSCAN MAP Visualization\n",
        "  - 0과 이상치 -1을 뺀 나머지의 clusters의 좌표를 활용해 시각화를 해보자.\n",
        "\n",
        "\n"
      ]
    }
  ]
}
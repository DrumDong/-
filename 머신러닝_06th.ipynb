{
  "nbformat": 4,
  "nbformat_minor": 0,
  "metadata": {
    "colab": {
      "name": "머신러닝_06th.ipynb",
      "provenance": [],
      "authorship_tag": "ABX9TyNkbwc3eqRqj6Yh4b+JebAm"
    },
    "kernelspec": {
      "name": "python3",
      "display_name": "Python 3"
    }
  },
  "cells": [
    {
      "cell_type": "markdown",
      "metadata": {
        "id": "dzfuUuOOtgwK",
        "colab_type": "text"
      },
      "source": [
        "# 로지스틱 회귀 모델 필요성\n",
        "\n",
        "---\n",
        "\n",
        "- 범주형 반응변수\n",
        "  - 이진변수(반응변수 값이 0 or 1)\n",
        "  - 멀티변수(반응변수 값이 1 or 2 or 3 이상)\n",
        "- 선형회귀모델과는 다른 방식으로 접근해야 될 필요성\n"
      ]
    },
    {
      "cell_type": "markdown",
      "metadata": {
        "id": "ByxJFDrMvHPL",
        "colab_type": "text"
      },
      "source": [
        "로지스틱 회귀모델 사용\n",
        "- 새로운 관측치가 왔을 때 이를 기존 범주 중 하나로 예측(범주예측)"
      ]
    },
    {
      "cell_type": "markdown",
      "metadata": {
        "id": "KOl-cIcfwKjH",
        "colab_type": "text"
      },
      "source": [
        "# 로지스틱 회귀모델 이론 배경\n",
        "Consider Yi to ve a Benoulli random variable\n",
        "\n",
        "![대체 텍스트](https://image3.slideserve.com/6114396/bernoulli-distribution-l.jpg)\n",
        "\n",
        "X값이 주어졌을 때 출력변수 Y가 1의 값을 가질 확률"
      ]
    },
    {
      "cell_type": "markdown",
      "metadata": {
        "id": "ZPzuh-yD8sKQ",
        "colab_type": "text"
      },
      "source": [
        "# 로지스틱 회귀분석 알고리즘 - 로지스틱 함수\n",
        "\n",
        "![대체 텍스트](https://t1.daumcdn.net/cfile/tistory/99F325485C7B76BC2B)\n",
        "\n",
        "- 아웃풋 범위: 0~1\n",
        "- 인풋값에 대해 단조증가 (혹은 단조감소) 함수\n",
        "- 미분결과를 아웃풋의 함수로 표현 가능(Gradient learning method에 유용하게 사용)\n",
        "\n",
        "---\n",
        "\n",
        "- 단순로지스틱 회귀모델: 입력변수 X가 1개인 로지스틱 회귀모델"
      ]
    },
    {
      "cell_type": "markdown",
      "metadata": {
        "id": "sNsx_bKJEZPe",
        "colab_type": "text"
      },
      "source": [
        "# 로지스틱 회귀모델 - B(베타)의 해석\n",
        "\n",
        "![대체 텍스트](https://wikidocs.net/images/page/32046/ANN_Sigmoid.png)\n",
        "\n",
        "- B의 해석 -> 직관적이지 못함\n",
        "\n",
        "- 승산(Odds)\n",
        " - 성공 확률을 p로 정의할 때, 실패 대비 성공 확률 비율\n",
        "\n",
        " ![대체 텍스트](data:image/png;base64,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)\n",
        "\n",
        "  - p: 1 -> odd = 무한대\n",
        "  - p: 0 -> odd = 0\n",
        "\n",
        "---\n",
        "\n",
        "![대체 텍스트](https://static.oddschecker.com/content/types/TIP/football-worldcupfifarankings2.jpg?v=7145853)\n",
        "\n",
        "- 독일의 우승 odds(p/(1-p))는 1/5, 독일의 우승 확률은 1/6\n",
        "- 대한민국의 우승 odds는 1/750, 즉 대한민국의 우승 확률은 1/751\n",
        "\n",
        "---\n",
        "\n",
        "![대체 텍스트](https://slidesplayer.org/slide/14394501/89/images/28/Logistic+Regression+Logistic+Regression+Function.jpg)"
      ]
    }
  ]
}